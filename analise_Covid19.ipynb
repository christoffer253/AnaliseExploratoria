{
 "cells": [
  {
   "cell_type": "markdown",
   "metadata": {},
   "source": [
    "## Análise Exploratória da Base de Dados Covid 19 em Curitiba\n",
    "\n",
    "Análise realizada pelos alunos da disciplina Ciência de Dados e suas aplicações em cenário de pandemia.\n",
    "\n",
    "Objetivo: <b>Analisar número de casos e óbitos de Covid 19 na cidade de Curitiba.</b>"
   ]
  },
  {
   "cell_type": "markdown",
   "metadata": {},
   "source": [
    "### Etapa 1 - Leitura do arquivo csv"
   ]
  },
  {
   "cell_type": "code",
   "execution_count": 18,
   "metadata": {},
   "outputs": [
    {
     "data": {
      "text/html": [
       "<div>\n",
       "<style scoped>\n",
       "    .dataframe tbody tr th:only-of-type {\n",
       "        vertical-align: middle;\n",
       "    }\n",
       "\n",
       "    .dataframe tbody tr th {\n",
       "        vertical-align: top;\n",
       "    }\n",
       "\n",
       "    .dataframe thead th {\n",
       "        text-align: right;\n",
       "    }\n",
       "</style>\n",
       "<table border=\"1\" class=\"dataframe\">\n",
       "  <thead>\n",
       "    <tr style=\"text-align: right;\">\n",
       "      <th></th>\n",
       "      <th>DATA INCLUSÃO/ NOTIFICAÇÃO</th>\n",
       "      <th>CLASSIFICAÇÃO FINAL</th>\n",
       "      <th>IDADE (anos)</th>\n",
       "      <th>SEXO</th>\n",
       "      <th>ENCERRAMENTO</th>\n",
       "      <th>DATA DO ÓBITO</th>\n",
       "    </tr>\n",
       "    <tr>\n",
       "      <th>POSIÇÃO</th>\n",
       "      <th></th>\n",
       "      <th></th>\n",
       "      <th></th>\n",
       "      <th></th>\n",
       "      <th></th>\n",
       "      <th></th>\n",
       "    </tr>\n",
       "  </thead>\n",
       "  <tbody>\n",
       "    <tr>\n",
       "      <th>1.0</th>\n",
       "      <td>11/03/2020</td>\n",
       "      <td>CONFIRMADO</td>\n",
       "      <td>54</td>\n",
       "      <td>M</td>\n",
       "      <td>RECUPERADO</td>\n",
       "      <td>NaN</td>\n",
       "    </tr>\n",
       "    <tr>\n",
       "      <th>2.0</th>\n",
       "      <td>12/03/2020</td>\n",
       "      <td>CONFIRMADO</td>\n",
       "      <td>43</td>\n",
       "      <td>M</td>\n",
       "      <td>RECUPERADO</td>\n",
       "      <td>NaN</td>\n",
       "    </tr>\n",
       "    <tr>\n",
       "      <th>3.0</th>\n",
       "      <td>12/03/2020</td>\n",
       "      <td>CONFIRMADO</td>\n",
       "      <td>15</td>\n",
       "      <td>M</td>\n",
       "      <td>RECUPERADO</td>\n",
       "      <td>NaN</td>\n",
       "    </tr>\n",
       "    <tr>\n",
       "      <th>4.0</th>\n",
       "      <td>12/03/2020</td>\n",
       "      <td>CONFIRMADO</td>\n",
       "      <td>25</td>\n",
       "      <td>F</td>\n",
       "      <td>RECUPERADO</td>\n",
       "      <td>NaN</td>\n",
       "    </tr>\n",
       "    <tr>\n",
       "      <th>5.0</th>\n",
       "      <td>12/03/2020</td>\n",
       "      <td>CONFIRMADO</td>\n",
       "      <td>58</td>\n",
       "      <td>M</td>\n",
       "      <td>RECUPERADO</td>\n",
       "      <td>NaN</td>\n",
       "    </tr>\n",
       "  </tbody>\n",
       "</table>\n",
       "</div>"
      ],
      "text/plain": [
       "        DATA INCLUSÃO/ NOTIFICAÇÃO CLASSIFICAÇÃO FINAL  IDADE (anos) SEXO  \\\n",
       "POSIÇÃO                                                                     \n",
       "1.0                     11/03/2020          CONFIRMADO            54    M   \n",
       "2.0                     12/03/2020          CONFIRMADO            43    M   \n",
       "3.0                     12/03/2020          CONFIRMADO            15    M   \n",
       "4.0                     12/03/2020          CONFIRMADO            25    F   \n",
       "5.0                     12/03/2020          CONFIRMADO            58    M   \n",
       "\n",
       "        ENCERRAMENTO DATA DO ÓBITO  \n",
       "POSIÇÃO                             \n",
       "1.0       RECUPERADO           NaN  \n",
       "2.0       RECUPERADO           NaN  \n",
       "3.0       RECUPERADO           NaN  \n",
       "4.0       RECUPERADO           NaN  \n",
       "5.0       RECUPERADO           NaN  "
      ]
     },
     "execution_count": 18,
     "metadata": {},
     "output_type": "execute_result"
    }
   ],
   "source": [
    "import pandas as pd\n",
    "import numpy as np\n",
    "from matplotlib.pylab import plt\n",
    "\n",
    "df = pd.read_csv(r'https://mid.curitiba.pr.gov.br/dadosabertos/CasosCovid19/2020-11-01_Casos_Covid_19_-_Base_de_Dados.csv', sep=';', encoding='cp1252', header=0, index_col=0)\n",
    "df.drop(df.filter(regex=\"Unname\"),axis=1, inplace=True)\n",
    "df.head()"
   ]
  },
  {
   "cell_type": "markdown",
   "metadata": {},
   "source": [
    "Para facilitar a análise, podemos renomear as colunas."
   ]
  },
  {
   "cell_type": "code",
   "execution_count": 19,
   "metadata": {},
   "outputs": [
    {
     "data": {
      "text/html": [
       "<div>\n",
       "<style scoped>\n",
       "    .dataframe tbody tr th:only-of-type {\n",
       "        vertical-align: middle;\n",
       "    }\n",
       "\n",
       "    .dataframe tbody tr th {\n",
       "        vertical-align: top;\n",
       "    }\n",
       "\n",
       "    .dataframe thead th {\n",
       "        text-align: right;\n",
       "    }\n",
       "</style>\n",
       "<table border=\"1\" class=\"dataframe\">\n",
       "  <thead>\n",
       "    <tr style=\"text-align: right;\">\n",
       "      <th></th>\n",
       "      <th>DATA_NOTIFICACAO</th>\n",
       "      <th>CLASSIFICAÇÃO</th>\n",
       "      <th>IDADE</th>\n",
       "      <th>SEXO</th>\n",
       "      <th>STATUS</th>\n",
       "      <th>DATA_OBITO</th>\n",
       "    </tr>\n",
       "    <tr>\n",
       "      <th>POSIÇÃO</th>\n",
       "      <th></th>\n",
       "      <th></th>\n",
       "      <th></th>\n",
       "      <th></th>\n",
       "      <th></th>\n",
       "      <th></th>\n",
       "    </tr>\n",
       "  </thead>\n",
       "  <tbody>\n",
       "    <tr>\n",
       "      <th>1.000</th>\n",
       "      <td>11/03/2020</td>\n",
       "      <td>CONFIRMADO</td>\n",
       "      <td>54</td>\n",
       "      <td>M</td>\n",
       "      <td>RECUPERADO</td>\n",
       "      <td>NaN</td>\n",
       "    </tr>\n",
       "    <tr>\n",
       "      <th>2.000</th>\n",
       "      <td>12/03/2020</td>\n",
       "      <td>CONFIRMADO</td>\n",
       "      <td>43</td>\n",
       "      <td>M</td>\n",
       "      <td>RECUPERADO</td>\n",
       "      <td>NaN</td>\n",
       "    </tr>\n",
       "    <tr>\n",
       "      <th>3.000</th>\n",
       "      <td>12/03/2020</td>\n",
       "      <td>CONFIRMADO</td>\n",
       "      <td>15</td>\n",
       "      <td>M</td>\n",
       "      <td>RECUPERADO</td>\n",
       "      <td>NaN</td>\n",
       "    </tr>\n",
       "    <tr>\n",
       "      <th>4.000</th>\n",
       "      <td>12/03/2020</td>\n",
       "      <td>CONFIRMADO</td>\n",
       "      <td>25</td>\n",
       "      <td>F</td>\n",
       "      <td>RECUPERADO</td>\n",
       "      <td>NaN</td>\n",
       "    </tr>\n",
       "    <tr>\n",
       "      <th>5.000</th>\n",
       "      <td>12/03/2020</td>\n",
       "      <td>CONFIRMADO</td>\n",
       "      <td>58</td>\n",
       "      <td>M</td>\n",
       "      <td>RECUPERADO</td>\n",
       "      <td>NaN</td>\n",
       "    </tr>\n",
       "    <tr>\n",
       "      <th>...</th>\n",
       "      <td>...</td>\n",
       "      <td>...</td>\n",
       "      <td>...</td>\n",
       "      <td>...</td>\n",
       "      <td>...</td>\n",
       "      <td>...</td>\n",
       "    </tr>\n",
       "    <tr>\n",
       "      <th>52.492</th>\n",
       "      <td>30/10/2020</td>\n",
       "      <td>CONFIRMADO</td>\n",
       "      <td>56</td>\n",
       "      <td>M</td>\n",
       "      <td>RECUPERADO</td>\n",
       "      <td>NaN</td>\n",
       "    </tr>\n",
       "    <tr>\n",
       "      <th>52.493</th>\n",
       "      <td>30/10/2020</td>\n",
       "      <td>CONFIRMADO</td>\n",
       "      <td>23</td>\n",
       "      <td>M</td>\n",
       "      <td>NaN</td>\n",
       "      <td>NaN</td>\n",
       "    </tr>\n",
       "    <tr>\n",
       "      <th>52.494</th>\n",
       "      <td>30/10/2020</td>\n",
       "      <td>CONFIRMADO</td>\n",
       "      <td>3</td>\n",
       "      <td>M</td>\n",
       "      <td>NaN</td>\n",
       "      <td>NaN</td>\n",
       "    </tr>\n",
       "    <tr>\n",
       "      <th>52.495</th>\n",
       "      <td>30/10/2020</td>\n",
       "      <td>CONFIRMADO</td>\n",
       "      <td>7</td>\n",
       "      <td>F</td>\n",
       "      <td>NaN</td>\n",
       "      <td>NaN</td>\n",
       "    </tr>\n",
       "    <tr>\n",
       "      <th>52.496</th>\n",
       "      <td>30/10/2020</td>\n",
       "      <td>CONFIRMADO</td>\n",
       "      <td>61</td>\n",
       "      <td>F</td>\n",
       "      <td>NaN</td>\n",
       "      <td>NaN</td>\n",
       "    </tr>\n",
       "  </tbody>\n",
       "</table>\n",
       "<p>52496 rows × 6 columns</p>\n",
       "</div>"
      ],
      "text/plain": [
       "        DATA_NOTIFICACAO CLASSIFICAÇÃO  IDADE SEXO      STATUS DATA_OBITO\n",
       "POSIÇÃO                                                                  \n",
       "1.000         11/03/2020    CONFIRMADO     54    M  RECUPERADO        NaN\n",
       "2.000         12/03/2020    CONFIRMADO     43    M  RECUPERADO        NaN\n",
       "3.000         12/03/2020    CONFIRMADO     15    M  RECUPERADO        NaN\n",
       "4.000         12/03/2020    CONFIRMADO     25    F  RECUPERADO        NaN\n",
       "5.000         12/03/2020    CONFIRMADO     58    M  RECUPERADO        NaN\n",
       "...                  ...           ...    ...  ...         ...        ...\n",
       "52.492        30/10/2020    CONFIRMADO     56    M  RECUPERADO        NaN\n",
       "52.493        30/10/2020    CONFIRMADO     23    M         NaN        NaN\n",
       "52.494        30/10/2020    CONFIRMADO      3    M         NaN        NaN\n",
       "52.495        30/10/2020    CONFIRMADO      7    F         NaN        NaN\n",
       "52.496        30/10/2020    CONFIRMADO     61    F         NaN        NaN\n",
       "\n",
       "[52496 rows x 6 columns]"
      ]
     },
     "execution_count": 19,
     "metadata": {},
     "output_type": "execute_result"
    }
   ],
   "source": [
    "renomear_colunas = ['DATA_NOTIFICACAO','CLASSIFICAÇÃO','IDADE','SEXO','STATUS','DATA_OBITO']\n",
    "df.columns = renomear_colunas\n",
    "df"
   ]
  },
  {
   "cell_type": "markdown",
   "metadata": {},
   "source": [
    "Vamos também alterar os tipos das colunas adequadamente."
   ]
  },
  {
   "cell_type": "code",
   "execution_count": 20,
   "metadata": {},
   "outputs": [
    {
     "name": "stdout",
     "output_type": "stream",
     "text": [
      "<class 'pandas.core.frame.DataFrame'>\n",
      "Float64Index: 52496 entries, 1.0 to 52.496\n",
      "Data columns (total 6 columns):\n",
      " #   Column            Non-Null Count  Dtype         \n",
      "---  ------            --------------  -----         \n",
      " 0   DATA_NOTIFICACAO  52496 non-null  datetime64[ns]\n",
      " 1   CLASSIFICAÇÃO     52496 non-null  object        \n",
      " 2   IDADE             52496 non-null  int64         \n",
      " 3   SEXO              52496 non-null  object        \n",
      " 4   STATUS            48846 non-null  object        \n",
      " 5   DATA_OBITO        1475 non-null   datetime64[ns]\n",
      "dtypes: datetime64[ns](2), int64(1), object(3)\n",
      "memory usage: 2.8+ MB\n"
     ]
    }
   ],
   "source": [
    "# converte colunas para formato data\n",
    "df[['DATA_NOTIFICACAO','DATA_OBITO']] = df[['DATA_NOTIFICACAO','DATA_OBITO']].apply(pd.to_datetime, dayfirst=True)\n",
    "df.info()\n"
   ]
  },
  {
   "cell_type": "markdown",
   "metadata": {},
   "source": [
    "### Etapa 2 - Verificação colunas e valores\n",
    "\n",
    "Podemos verificar inicialmente quais os valores distintos em algumas colunas, para verificar a classificação. A seguir, verificamos como os dados são classificados na coluna Status."
   ]
  },
  {
   "cell_type": "code",
   "execution_count": 21,
   "metadata": {},
   "outputs": [
    {
     "data": {
      "text/plain": [
       "array(['RECUPERADO', 'ÓBITO CONF', nan], dtype=object)"
      ]
     },
     "execution_count": 21,
     "metadata": {},
     "output_type": "execute_result"
    }
   ],
   "source": [
    "df['STATUS'].unique()"
   ]
  },
  {
   "cell_type": "markdown",
   "metadata": {},
   "source": [
    "Verificamos que o Status é classificado em <b>Recuperado</b> e <b>Óbito Confirmado</b>. Também temos alguns valores nulos, onde possivelmente os casos ainda estão sendo avaliados. Primeiramente, vamos analisar os óbitos confirmados no município."
   ]
  },
  {
   "cell_type": "code",
   "execution_count": 22,
   "metadata": {},
   "outputs": [
    {
     "data": {
      "text/html": [
       "<div>\n",
       "<style scoped>\n",
       "    .dataframe tbody tr th:only-of-type {\n",
       "        vertical-align: middle;\n",
       "    }\n",
       "\n",
       "    .dataframe tbody tr th {\n",
       "        vertical-align: top;\n",
       "    }\n",
       "\n",
       "    .dataframe thead th {\n",
       "        text-align: right;\n",
       "    }\n",
       "</style>\n",
       "<table border=\"1\" class=\"dataframe\">\n",
       "  <thead>\n",
       "    <tr style=\"text-align: right;\">\n",
       "      <th></th>\n",
       "      <th>DATA_NOTIFICACAO</th>\n",
       "      <th>CLASSIFICAÇÃO</th>\n",
       "      <th>IDADE</th>\n",
       "      <th>SEXO</th>\n",
       "      <th>STATUS</th>\n",
       "      <th>DATA_OBITO</th>\n",
       "    </tr>\n",
       "    <tr>\n",
       "      <th>POSIÇÃO</th>\n",
       "      <th></th>\n",
       "      <th></th>\n",
       "      <th></th>\n",
       "      <th></th>\n",
       "      <th></th>\n",
       "      <th></th>\n",
       "    </tr>\n",
       "  </thead>\n",
       "  <tbody>\n",
       "    <tr>\n",
       "      <th>110.000</th>\n",
       "      <td>2020-03-28</td>\n",
       "      <td>CONFIRMADO</td>\n",
       "      <td>61</td>\n",
       "      <td>M</td>\n",
       "      <td>ÓBITO CONF</td>\n",
       "      <td>2020-04-18</td>\n",
       "    </tr>\n",
       "    <tr>\n",
       "      <th>118.000</th>\n",
       "      <td>2020-03-29</td>\n",
       "      <td>CONFIRMADO</td>\n",
       "      <td>56</td>\n",
       "      <td>F</td>\n",
       "      <td>ÓBITO CONF</td>\n",
       "      <td>2020-04-06</td>\n",
       "    </tr>\n",
       "    <tr>\n",
       "      <th>137.000</th>\n",
       "      <td>2020-03-31</td>\n",
       "      <td>CONFIRMADO</td>\n",
       "      <td>93</td>\n",
       "      <td>M</td>\n",
       "      <td>ÓBITO CONF</td>\n",
       "      <td>2020-04-21</td>\n",
       "    </tr>\n",
       "    <tr>\n",
       "      <th>149.000</th>\n",
       "      <td>2020-03-31</td>\n",
       "      <td>CONFIRMADO</td>\n",
       "      <td>39</td>\n",
       "      <td>F</td>\n",
       "      <td>ÓBITO CONF</td>\n",
       "      <td>2020-04-25</td>\n",
       "    </tr>\n",
       "    <tr>\n",
       "      <th>155.000</th>\n",
       "      <td>2020-04-01</td>\n",
       "      <td>CONFIRMADO</td>\n",
       "      <td>85</td>\n",
       "      <td>M</td>\n",
       "      <td>ÓBITO CONF</td>\n",
       "      <td>2020-04-20</td>\n",
       "    </tr>\n",
       "    <tr>\n",
       "      <th>...</th>\n",
       "      <td>...</td>\n",
       "      <td>...</td>\n",
       "      <td>...</td>\n",
       "      <td>...</td>\n",
       "      <td>...</td>\n",
       "      <td>...</td>\n",
       "    </tr>\n",
       "    <tr>\n",
       "      <th>48.507</th>\n",
       "      <td>2020-10-16</td>\n",
       "      <td>CONFIRMADO</td>\n",
       "      <td>64</td>\n",
       "      <td>M</td>\n",
       "      <td>ÓBITO CONF</td>\n",
       "      <td>2020-10-29</td>\n",
       "    </tr>\n",
       "    <tr>\n",
       "      <th>49.513</th>\n",
       "      <td>2020-10-21</td>\n",
       "      <td>CONFIRMADO</td>\n",
       "      <td>80</td>\n",
       "      <td>M</td>\n",
       "      <td>ÓBITO CONF</td>\n",
       "      <td>2020-10-28</td>\n",
       "    </tr>\n",
       "    <tr>\n",
       "      <th>49.514</th>\n",
       "      <td>2020-10-21</td>\n",
       "      <td>CONFIRMADO</td>\n",
       "      <td>58</td>\n",
       "      <td>F</td>\n",
       "      <td>ÓBITO CONF</td>\n",
       "      <td>2020-10-29</td>\n",
       "    </tr>\n",
       "    <tr>\n",
       "      <th>49.664</th>\n",
       "      <td>2020-10-21</td>\n",
       "      <td>CONFIRMADO</td>\n",
       "      <td>50</td>\n",
       "      <td>F</td>\n",
       "      <td>ÓBITO CONF</td>\n",
       "      <td>2020-10-28</td>\n",
       "    </tr>\n",
       "    <tr>\n",
       "      <th>50.525</th>\n",
       "      <td>2020-10-24</td>\n",
       "      <td>CONFIRMADO</td>\n",
       "      <td>84</td>\n",
       "      <td>F</td>\n",
       "      <td>ÓBITO CONF</td>\n",
       "      <td>2020-10-26</td>\n",
       "    </tr>\n",
       "  </tbody>\n",
       "</table>\n",
       "<p>1475 rows × 6 columns</p>\n",
       "</div>"
      ],
      "text/plain": [
       "        DATA_NOTIFICACAO CLASSIFICAÇÃO  IDADE SEXO      STATUS DATA_OBITO\n",
       "POSIÇÃO                                                                  \n",
       "110.000       2020-03-28    CONFIRMADO     61    M  ÓBITO CONF 2020-04-18\n",
       "118.000       2020-03-29    CONFIRMADO     56    F  ÓBITO CONF 2020-04-06\n",
       "137.000       2020-03-31    CONFIRMADO     93    M  ÓBITO CONF 2020-04-21\n",
       "149.000       2020-03-31    CONFIRMADO     39    F  ÓBITO CONF 2020-04-25\n",
       "155.000       2020-04-01    CONFIRMADO     85    M  ÓBITO CONF 2020-04-20\n",
       "...                  ...           ...    ...  ...         ...        ...\n",
       "48.507        2020-10-16    CONFIRMADO     64    M  ÓBITO CONF 2020-10-29\n",
       "49.513        2020-10-21    CONFIRMADO     80    M  ÓBITO CONF 2020-10-28\n",
       "49.514        2020-10-21    CONFIRMADO     58    F  ÓBITO CONF 2020-10-29\n",
       "49.664        2020-10-21    CONFIRMADO     50    F  ÓBITO CONF 2020-10-28\n",
       "50.525        2020-10-24    CONFIRMADO     84    F  ÓBITO CONF 2020-10-26\n",
       "\n",
       "[1475 rows x 6 columns]"
      ]
     },
     "execution_count": 22,
     "metadata": {},
     "output_type": "execute_result"
    }
   ],
   "source": [
    "df_obitos= df[df['STATUS']=='ÓBITO CONF']\n",
    "df_obitos"
   ]
  },
  {
   "cell_type": "markdown",
   "metadata": {},
   "source": [
    "Agora podemos verificar a quantidade de óbitos por mês. Para isso, extraimos da coluna data_obito apenas os valores referentes ao ano e mês, e contabilizamos quantas ocorrências aconteceram para cada mês."
   ]
  },
  {
   "cell_type": "code",
   "execution_count": 23,
   "metadata": {},
   "outputs": [
    {
     "name": "stderr",
     "output_type": "stream",
     "text": [
      "<ipython-input-23-3aa56e8086e2>:1: SettingWithCopyWarning: \n",
      "A value is trying to be set on a copy of a slice from a DataFrame.\n",
      "Try using .loc[row_indexer,col_indexer] = value instead\n",
      "\n",
      "See the caveats in the documentation: https://pandas.pydata.org/pandas-docs/stable/user_guide/indexing.html#returning-a-view-versus-a-copy\n",
      "  df_obitos['DATA_OBITO_MES_ANO'] = df_obitos['DATA_OBITO'].dt.to_period('M')\n"
     ]
    },
    {
     "data": {
      "text/html": [
       "<div>\n",
       "<style scoped>\n",
       "    .dataframe tbody tr th:only-of-type {\n",
       "        vertical-align: middle;\n",
       "    }\n",
       "\n",
       "    .dataframe tbody tr th {\n",
       "        vertical-align: top;\n",
       "    }\n",
       "\n",
       "    .dataframe thead th {\n",
       "        text-align: right;\n",
       "    }\n",
       "</style>\n",
       "<table border=\"1\" class=\"dataframe\">\n",
       "  <thead>\n",
       "    <tr style=\"text-align: right;\">\n",
       "      <th></th>\n",
       "      <th>DATA_NOTIFICACAO</th>\n",
       "      <th>CLASSIFICAÇÃO</th>\n",
       "      <th>IDADE</th>\n",
       "      <th>SEXO</th>\n",
       "      <th>STATUS</th>\n",
       "      <th>DATA_OBITO</th>\n",
       "      <th>DATA_OBITO_MES_ANO</th>\n",
       "    </tr>\n",
       "    <tr>\n",
       "      <th>POSIÇÃO</th>\n",
       "      <th></th>\n",
       "      <th></th>\n",
       "      <th></th>\n",
       "      <th></th>\n",
       "      <th></th>\n",
       "      <th></th>\n",
       "      <th></th>\n",
       "    </tr>\n",
       "  </thead>\n",
       "  <tbody>\n",
       "    <tr>\n",
       "      <th>110.000</th>\n",
       "      <td>2020-03-28</td>\n",
       "      <td>CONFIRMADO</td>\n",
       "      <td>61</td>\n",
       "      <td>M</td>\n",
       "      <td>ÓBITO CONF</td>\n",
       "      <td>2020-04-18</td>\n",
       "      <td>2020-04</td>\n",
       "    </tr>\n",
       "    <tr>\n",
       "      <th>118.000</th>\n",
       "      <td>2020-03-29</td>\n",
       "      <td>CONFIRMADO</td>\n",
       "      <td>56</td>\n",
       "      <td>F</td>\n",
       "      <td>ÓBITO CONF</td>\n",
       "      <td>2020-04-06</td>\n",
       "      <td>2020-04</td>\n",
       "    </tr>\n",
       "    <tr>\n",
       "      <th>137.000</th>\n",
       "      <td>2020-03-31</td>\n",
       "      <td>CONFIRMADO</td>\n",
       "      <td>93</td>\n",
       "      <td>M</td>\n",
       "      <td>ÓBITO CONF</td>\n",
       "      <td>2020-04-21</td>\n",
       "      <td>2020-04</td>\n",
       "    </tr>\n",
       "    <tr>\n",
       "      <th>149.000</th>\n",
       "      <td>2020-03-31</td>\n",
       "      <td>CONFIRMADO</td>\n",
       "      <td>39</td>\n",
       "      <td>F</td>\n",
       "      <td>ÓBITO CONF</td>\n",
       "      <td>2020-04-25</td>\n",
       "      <td>2020-04</td>\n",
       "    </tr>\n",
       "    <tr>\n",
       "      <th>155.000</th>\n",
       "      <td>2020-04-01</td>\n",
       "      <td>CONFIRMADO</td>\n",
       "      <td>85</td>\n",
       "      <td>M</td>\n",
       "      <td>ÓBITO CONF</td>\n",
       "      <td>2020-04-20</td>\n",
       "      <td>2020-04</td>\n",
       "    </tr>\n",
       "    <tr>\n",
       "      <th>...</th>\n",
       "      <td>...</td>\n",
       "      <td>...</td>\n",
       "      <td>...</td>\n",
       "      <td>...</td>\n",
       "      <td>...</td>\n",
       "      <td>...</td>\n",
       "      <td>...</td>\n",
       "    </tr>\n",
       "    <tr>\n",
       "      <th>48.507</th>\n",
       "      <td>2020-10-16</td>\n",
       "      <td>CONFIRMADO</td>\n",
       "      <td>64</td>\n",
       "      <td>M</td>\n",
       "      <td>ÓBITO CONF</td>\n",
       "      <td>2020-10-29</td>\n",
       "      <td>2020-10</td>\n",
       "    </tr>\n",
       "    <tr>\n",
       "      <th>49.513</th>\n",
       "      <td>2020-10-21</td>\n",
       "      <td>CONFIRMADO</td>\n",
       "      <td>80</td>\n",
       "      <td>M</td>\n",
       "      <td>ÓBITO CONF</td>\n",
       "      <td>2020-10-28</td>\n",
       "      <td>2020-10</td>\n",
       "    </tr>\n",
       "    <tr>\n",
       "      <th>49.514</th>\n",
       "      <td>2020-10-21</td>\n",
       "      <td>CONFIRMADO</td>\n",
       "      <td>58</td>\n",
       "      <td>F</td>\n",
       "      <td>ÓBITO CONF</td>\n",
       "      <td>2020-10-29</td>\n",
       "      <td>2020-10</td>\n",
       "    </tr>\n",
       "    <tr>\n",
       "      <th>49.664</th>\n",
       "      <td>2020-10-21</td>\n",
       "      <td>CONFIRMADO</td>\n",
       "      <td>50</td>\n",
       "      <td>F</td>\n",
       "      <td>ÓBITO CONF</td>\n",
       "      <td>2020-10-28</td>\n",
       "      <td>2020-10</td>\n",
       "    </tr>\n",
       "    <tr>\n",
       "      <th>50.525</th>\n",
       "      <td>2020-10-24</td>\n",
       "      <td>CONFIRMADO</td>\n",
       "      <td>84</td>\n",
       "      <td>F</td>\n",
       "      <td>ÓBITO CONF</td>\n",
       "      <td>2020-10-26</td>\n",
       "      <td>2020-10</td>\n",
       "    </tr>\n",
       "  </tbody>\n",
       "</table>\n",
       "<p>1475 rows × 7 columns</p>\n",
       "</div>"
      ],
      "text/plain": [
       "        DATA_NOTIFICACAO CLASSIFICAÇÃO  IDADE SEXO      STATUS DATA_OBITO  \\\n",
       "POSIÇÃO                                                                     \n",
       "110.000       2020-03-28    CONFIRMADO     61    M  ÓBITO CONF 2020-04-18   \n",
       "118.000       2020-03-29    CONFIRMADO     56    F  ÓBITO CONF 2020-04-06   \n",
       "137.000       2020-03-31    CONFIRMADO     93    M  ÓBITO CONF 2020-04-21   \n",
       "149.000       2020-03-31    CONFIRMADO     39    F  ÓBITO CONF 2020-04-25   \n",
       "155.000       2020-04-01    CONFIRMADO     85    M  ÓBITO CONF 2020-04-20   \n",
       "...                  ...           ...    ...  ...         ...        ...   \n",
       "48.507        2020-10-16    CONFIRMADO     64    M  ÓBITO CONF 2020-10-29   \n",
       "49.513        2020-10-21    CONFIRMADO     80    M  ÓBITO CONF 2020-10-28   \n",
       "49.514        2020-10-21    CONFIRMADO     58    F  ÓBITO CONF 2020-10-29   \n",
       "49.664        2020-10-21    CONFIRMADO     50    F  ÓBITO CONF 2020-10-28   \n",
       "50.525        2020-10-24    CONFIRMADO     84    F  ÓBITO CONF 2020-10-26   \n",
       "\n",
       "        DATA_OBITO_MES_ANO  \n",
       "POSIÇÃO                     \n",
       "110.000            2020-04  \n",
       "118.000            2020-04  \n",
       "137.000            2020-04  \n",
       "149.000            2020-04  \n",
       "155.000            2020-04  \n",
       "...                    ...  \n",
       "48.507             2020-10  \n",
       "49.513             2020-10  \n",
       "49.514             2020-10  \n",
       "49.664             2020-10  \n",
       "50.525             2020-10  \n",
       "\n",
       "[1475 rows x 7 columns]"
      ]
     },
     "execution_count": 23,
     "metadata": {},
     "output_type": "execute_result"
    }
   ],
   "source": [
    "df_obitos['DATA_OBITO_MES_ANO'] = df_obitos['DATA_OBITO'].dt.to_period('M')\n",
    "df_obitos"
   ]
  },
  {
   "cell_type": "code",
   "execution_count": 24,
   "metadata": {},
   "outputs": [
    {
     "data": {
      "text/plain": [
       "<matplotlib.axes._subplots.AxesSubplot at 0x1afc54bac40>"
      ]
     },
     "execution_count": 24,
     "metadata": {},
     "output_type": "execute_result"
    },
    {
     "data": {
      "image/png": "[encoded data removed]",
      "text/plain": [
       "<Figure size 432x288 with 1 Axes>"
      ]
     },
     "metadata": {
      "needs_background": "light"
     },
     "output_type": "display_data"
    }
   ],
   "source": [
    "df_obitos_series= df_obitos.groupby(['DATA_OBITO_MES_ANO']).size().rename('Numero de Obitos')\n",
    "df_obitos_series.plot()"
   ]
  },
  {
   "cell_type": "markdown",
   "metadata": {},
   "source": [
    "Plotando o gráfico do número de mortes ao longo do tempo, verificamos a quantidade de obitos nos meses de abril ate a data atual."
   ]
  },
  {
   "cell_type": "code",
   "execution_count": 25,
   "metadata": {},
   "outputs": [
    {
     "name": "stdout",
     "output_type": "stream",
     "text": [
      "Data do primeiro óbito: 2020-04-06 00:00:00\n",
      "Data máxima de óbitos: 2020-10-30 00:00:00\n"
     ]
    }
   ],
   "source": [
    "print(\"Data do primeiro óbito:\" ,df_obitos['DATA_OBITO'].min())\n",
    "print(\"Data máxima de óbitos:\",df_obitos['DATA_OBITO'].max())"
   ]
  },
  {
   "cell_type": "markdown",
   "metadata": {},
   "source": [
    "Podemos também buscar erros e inconsistências nos dados referentes à idade do paciente. Para visualizar a amostra, podemos utilizar o box plot na coluna \"IDADE\"."
   ]
  },
  {
   "cell_type": "code",
   "execution_count": 26,
   "metadata": {},
   "outputs": [
    {
     "data": {
      "text/plain": [
       "<matplotlib.axes._subplots.AxesSubplot at 0x1afc571ffa0>"
      ]
     },
     "execution_count": 26,
     "metadata": {},
     "output_type": "execute_result"
    },
    {
     "data": {
      "image/png": "[encoded data removed]",
      "text/plain": [
       "<Figure size 432x288 with 1 Axes>"
      ]
     },
     "metadata": {
      "needs_background": "light"
     },
     "output_type": "display_data"
    }
   ],
   "source": [
    "df['IDADE'].plot.box()"
   ]
  },
  {
   "cell_type": "markdown",
   "metadata": {},
   "source": [
    "Para verificar outras estatísticas interessantes sobre essa coluna, podemos utilizar o método describe."
   ]
  },
  {
   "cell_type": "code",
   "execution_count": 27,
   "metadata": {},
   "outputs": [
    {
     "data": {
      "text/plain": [
       "count    52496.000000\n",
       "mean        40.836749\n",
       "std         17.766300\n",
       "min          0.000000\n",
       "25%         28.000000\n",
       "50%         39.000000\n",
       "75%         53.000000\n",
       "max        102.000000\n",
       "Name: IDADE, dtype: float64"
      ]
     },
     "execution_count": 27,
     "metadata": {},
     "output_type": "execute_result"
    }
   ],
   "source": [
    "df['IDADE'].describe()"
   ]
  },
  {
   "cell_type": "markdown",
   "metadata": {},
   "source": [
    "Aparentemente, essa coluna possui valores dentro do esperado, com a idade dos pacientes entre 0 e 102 anos e a média de idade de 41 anos."
   ]
  },
  {
   "cell_type": "markdown",
   "metadata": {},
   "source": [
    "Abaixo um exemplo de filtro aplicado para determinada data."
   ]
  },
  {
   "cell_type": "code",
   "execution_count": 28,
   "metadata": {
    "scrolled": true
   },
   "outputs": [
    {
     "data": {
      "text/html": [
       "<div>\n",
       "<style scoped>\n",
       "    .dataframe tbody tr th:only-of-type {\n",
       "        vertical-align: middle;\n",
       "    }\n",
       "\n",
       "    .dataframe tbody tr th {\n",
       "        vertical-align: top;\n",
       "    }\n",
       "\n",
       "    .dataframe thead th {\n",
       "        text-align: right;\n",
       "    }\n",
       "</style>\n",
       "<table border=\"1\" class=\"dataframe\">\n",
       "  <thead>\n",
       "    <tr style=\"text-align: right;\">\n",
       "      <th></th>\n",
       "      <th>DATA_NOTIFICACAO</th>\n",
       "      <th>CLASSIFICAÇÃO</th>\n",
       "      <th>IDADE</th>\n",
       "      <th>SEXO</th>\n",
       "      <th>STATUS</th>\n",
       "      <th>DATA_OBITO</th>\n",
       "      <th>DATA_OBITO_MES_ANO</th>\n",
       "    </tr>\n",
       "    <tr>\n",
       "      <th>POSIÇÃO</th>\n",
       "      <th></th>\n",
       "      <th></th>\n",
       "      <th></th>\n",
       "      <th></th>\n",
       "      <th></th>\n",
       "      <th></th>\n",
       "      <th></th>\n",
       "    </tr>\n",
       "  </thead>\n",
       "  <tbody>\n",
       "    <tr>\n",
       "      <th>110.0</th>\n",
       "      <td>2020-03-28</td>\n",
       "      <td>CONFIRMADO</td>\n",
       "      <td>61</td>\n",
       "      <td>M</td>\n",
       "      <td>ÓBITO CONF</td>\n",
       "      <td>2020-04-18</td>\n",
       "      <td>2020-04</td>\n",
       "    </tr>\n",
       "    <tr>\n",
       "      <th>118.0</th>\n",
       "      <td>2020-03-29</td>\n",
       "      <td>CONFIRMADO</td>\n",
       "      <td>56</td>\n",
       "      <td>F</td>\n",
       "      <td>ÓBITO CONF</td>\n",
       "      <td>2020-04-06</td>\n",
       "      <td>2020-04</td>\n",
       "    </tr>\n",
       "    <tr>\n",
       "      <th>137.0</th>\n",
       "      <td>2020-03-31</td>\n",
       "      <td>CONFIRMADO</td>\n",
       "      <td>93</td>\n",
       "      <td>M</td>\n",
       "      <td>ÓBITO CONF</td>\n",
       "      <td>2020-04-21</td>\n",
       "      <td>2020-04</td>\n",
       "    </tr>\n",
       "    <tr>\n",
       "      <th>149.0</th>\n",
       "      <td>2020-03-31</td>\n",
       "      <td>CONFIRMADO</td>\n",
       "      <td>39</td>\n",
       "      <td>F</td>\n",
       "      <td>ÓBITO CONF</td>\n",
       "      <td>2020-04-25</td>\n",
       "      <td>2020-04</td>\n",
       "    </tr>\n",
       "    <tr>\n",
       "      <th>155.0</th>\n",
       "      <td>2020-04-01</td>\n",
       "      <td>CONFIRMADO</td>\n",
       "      <td>85</td>\n",
       "      <td>M</td>\n",
       "      <td>ÓBITO CONF</td>\n",
       "      <td>2020-04-20</td>\n",
       "      <td>2020-04</td>\n",
       "    </tr>\n",
       "    <tr>\n",
       "      <th>172.0</th>\n",
       "      <td>2020-04-01</td>\n",
       "      <td>CONFIRMADO</td>\n",
       "      <td>94</td>\n",
       "      <td>M</td>\n",
       "      <td>ÓBITO CONF</td>\n",
       "      <td>2020-04-06</td>\n",
       "      <td>2020-04</td>\n",
       "    </tr>\n",
       "    <tr>\n",
       "      <th>183.0</th>\n",
       "      <td>2020-04-02</td>\n",
       "      <td>CONFIRMADO</td>\n",
       "      <td>56</td>\n",
       "      <td>M</td>\n",
       "      <td>ÓBITO CONF</td>\n",
       "      <td>2020-04-07</td>\n",
       "      <td>2020-04</td>\n",
       "    </tr>\n",
       "    <tr>\n",
       "      <th>186.0</th>\n",
       "      <td>2020-04-02</td>\n",
       "      <td>CONFIRMADO</td>\n",
       "      <td>81</td>\n",
       "      <td>M</td>\n",
       "      <td>ÓBITO CONF</td>\n",
       "      <td>2020-04-27</td>\n",
       "      <td>2020-04</td>\n",
       "    </tr>\n",
       "    <tr>\n",
       "      <th>204.0</th>\n",
       "      <td>2020-04-03</td>\n",
       "      <td>CONFIRMADO</td>\n",
       "      <td>82</td>\n",
       "      <td>M</td>\n",
       "      <td>ÓBITO CONF</td>\n",
       "      <td>2020-04-14</td>\n",
       "      <td>2020-04</td>\n",
       "    </tr>\n",
       "    <tr>\n",
       "      <th>223.0</th>\n",
       "      <td>2020-04-04</td>\n",
       "      <td>CONFIRMADO</td>\n",
       "      <td>75</td>\n",
       "      <td>F</td>\n",
       "      <td>ÓBITO CONF</td>\n",
       "      <td>2020-04-20</td>\n",
       "      <td>2020-04</td>\n",
       "    </tr>\n",
       "    <tr>\n",
       "      <th>237.0</th>\n",
       "      <td>2020-04-05</td>\n",
       "      <td>CONFIRMADO</td>\n",
       "      <td>88</td>\n",
       "      <td>F</td>\n",
       "      <td>ÓBITO CONF</td>\n",
       "      <td>2020-04-24</td>\n",
       "      <td>2020-04</td>\n",
       "    </tr>\n",
       "    <tr>\n",
       "      <th>240.0</th>\n",
       "      <td>2020-04-05</td>\n",
       "      <td>CONFIRMADO</td>\n",
       "      <td>80</td>\n",
       "      <td>M</td>\n",
       "      <td>ÓBITO CONF</td>\n",
       "      <td>2020-04-13</td>\n",
       "      <td>2020-04</td>\n",
       "    </tr>\n",
       "    <tr>\n",
       "      <th>253.0</th>\n",
       "      <td>2020-04-06</td>\n",
       "      <td>CONFIRMADO</td>\n",
       "      <td>87</td>\n",
       "      <td>F</td>\n",
       "      <td>ÓBITO CONF</td>\n",
       "      <td>2020-04-28</td>\n",
       "      <td>2020-04</td>\n",
       "    </tr>\n",
       "    <tr>\n",
       "      <th>256.0</th>\n",
       "      <td>2020-04-06</td>\n",
       "      <td>CONFIRMADO</td>\n",
       "      <td>73</td>\n",
       "      <td>M</td>\n",
       "      <td>ÓBITO CONF</td>\n",
       "      <td>2020-04-20</td>\n",
       "      <td>2020-04</td>\n",
       "    </tr>\n",
       "    <tr>\n",
       "      <th>270.0</th>\n",
       "      <td>2020-04-07</td>\n",
       "      <td>CONFIRMADO</td>\n",
       "      <td>94</td>\n",
       "      <td>F</td>\n",
       "      <td>ÓBITO CONF</td>\n",
       "      <td>2020-04-07</td>\n",
       "      <td>2020-04</td>\n",
       "    </tr>\n",
       "    <tr>\n",
       "      <th>370.0</th>\n",
       "      <td>2020-04-12</td>\n",
       "      <td>CONFIRMADO</td>\n",
       "      <td>72</td>\n",
       "      <td>M</td>\n",
       "      <td>ÓBITO CONF</td>\n",
       "      <td>2020-04-07</td>\n",
       "      <td>2020-04</td>\n",
       "    </tr>\n",
       "    <tr>\n",
       "      <th>394.0</th>\n",
       "      <td>2020-04-15</td>\n",
       "      <td>CONFIRMADO</td>\n",
       "      <td>93</td>\n",
       "      <td>F</td>\n",
       "      <td>ÓBITO CONF</td>\n",
       "      <td>2020-04-19</td>\n",
       "      <td>2020-04</td>\n",
       "    </tr>\n",
       "    <tr>\n",
       "      <th>425.0</th>\n",
       "      <td>2020-04-17</td>\n",
       "      <td>CONFIRMADO</td>\n",
       "      <td>80</td>\n",
       "      <td>M</td>\n",
       "      <td>ÓBITO CONF</td>\n",
       "      <td>2020-04-29</td>\n",
       "      <td>2020-04</td>\n",
       "    </tr>\n",
       "    <tr>\n",
       "      <th>450.0</th>\n",
       "      <td>2020-04-18</td>\n",
       "      <td>CONFIRMADO</td>\n",
       "      <td>77</td>\n",
       "      <td>M</td>\n",
       "      <td>ÓBITO CONF</td>\n",
       "      <td>2020-04-29</td>\n",
       "      <td>2020-04</td>\n",
       "    </tr>\n",
       "    <tr>\n",
       "      <th>455.0</th>\n",
       "      <td>2020-04-19</td>\n",
       "      <td>CONFIRMADO</td>\n",
       "      <td>82</td>\n",
       "      <td>M</td>\n",
       "      <td>ÓBITO CONF</td>\n",
       "      <td>2020-04-29</td>\n",
       "      <td>2020-04</td>\n",
       "    </tr>\n",
       "    <tr>\n",
       "      <th>480.0</th>\n",
       "      <td>2020-04-21</td>\n",
       "      <td>CONFIRMADO</td>\n",
       "      <td>81</td>\n",
       "      <td>M</td>\n",
       "      <td>ÓBITO CONF</td>\n",
       "      <td>2020-04-29</td>\n",
       "      <td>2020-04</td>\n",
       "    </tr>\n",
       "    <tr>\n",
       "      <th>593.0</th>\n",
       "      <td>2020-04-28</td>\n",
       "      <td>CONFIRMADO</td>\n",
       "      <td>69</td>\n",
       "      <td>F</td>\n",
       "      <td>ÓBITO CONF</td>\n",
       "      <td>2020-04-28</td>\n",
       "      <td>2020-04</td>\n",
       "    </tr>\n",
       "    <tr>\n",
       "      <th>892.0</th>\n",
       "      <td>2020-05-15</td>\n",
       "      <td>CONFIRMADO</td>\n",
       "      <td>87</td>\n",
       "      <td>F</td>\n",
       "      <td>ÓBITO CONF</td>\n",
       "      <td>2020-04-06</td>\n",
       "      <td>2020-04</td>\n",
       "    </tr>\n",
       "  </tbody>\n",
       "</table>\n",
       "</div>"
      ],
      "text/plain": [
       "        DATA_NOTIFICACAO CLASSIFICAÇÃO  IDADE SEXO      STATUS DATA_OBITO  \\\n",
       "POSIÇÃO                                                                     \n",
       "110.0         2020-03-28    CONFIRMADO     61    M  ÓBITO CONF 2020-04-18   \n",
       "118.0         2020-03-29    CONFIRMADO     56    F  ÓBITO CONF 2020-04-06   \n",
       "137.0         2020-03-31    CONFIRMADO     93    M  ÓBITO CONF 2020-04-21   \n",
       "149.0         2020-03-31    CONFIRMADO     39    F  ÓBITO CONF 2020-04-25   \n",
       "155.0         2020-04-01    CONFIRMADO     85    M  ÓBITO CONF 2020-04-20   \n",
       "172.0         2020-04-01    CONFIRMADO     94    M  ÓBITO CONF 2020-04-06   \n",
       "183.0         2020-04-02    CONFIRMADO     56    M  ÓBITO CONF 2020-04-07   \n",
       "186.0         2020-04-02    CONFIRMADO     81    M  ÓBITO CONF 2020-04-27   \n",
       "204.0         2020-04-03    CONFIRMADO     82    M  ÓBITO CONF 2020-04-14   \n",
       "223.0         2020-04-04    CONFIRMADO     75    F  ÓBITO CONF 2020-04-20   \n",
       "237.0         2020-04-05    CONFIRMADO     88    F  ÓBITO CONF 2020-04-24   \n",
       "240.0         2020-04-05    CONFIRMADO     80    M  ÓBITO CONF 2020-04-13   \n",
       "253.0         2020-04-06    CONFIRMADO     87    F  ÓBITO CONF 2020-04-28   \n",
       "256.0         2020-04-06    CONFIRMADO     73    M  ÓBITO CONF 2020-04-20   \n",
       "270.0         2020-04-07    CONFIRMADO     94    F  ÓBITO CONF 2020-04-07   \n",
       "370.0         2020-04-12    CONFIRMADO     72    M  ÓBITO CONF 2020-04-07   \n",
       "394.0         2020-04-15    CONFIRMADO     93    F  ÓBITO CONF 2020-04-19   \n",
       "425.0         2020-04-17    CONFIRMADO     80    M  ÓBITO CONF 2020-04-29   \n",
       "450.0         2020-04-18    CONFIRMADO     77    M  ÓBITO CONF 2020-04-29   \n",
       "455.0         2020-04-19    CONFIRMADO     82    M  ÓBITO CONF 2020-04-29   \n",
       "480.0         2020-04-21    CONFIRMADO     81    M  ÓBITO CONF 2020-04-29   \n",
       "593.0         2020-04-28    CONFIRMADO     69    F  ÓBITO CONF 2020-04-28   \n",
       "892.0         2020-05-15    CONFIRMADO     87    F  ÓBITO CONF 2020-04-06   \n",
       "\n",
       "        DATA_OBITO_MES_ANO  \n",
       "POSIÇÃO                     \n",
       "110.0              2020-04  \n",
       "118.0              2020-04  \n",
       "137.0              2020-04  \n",
       "149.0              2020-04  \n",
       "155.0              2020-04  \n",
       "172.0              2020-04  \n",
       "183.0              2020-04  \n",
       "186.0              2020-04  \n",
       "204.0              2020-04  \n",
       "223.0              2020-04  \n",
       "237.0              2020-04  \n",
       "240.0              2020-04  \n",
       "253.0              2020-04  \n",
       "256.0              2020-04  \n",
       "270.0              2020-04  \n",
       "370.0              2020-04  \n",
       "394.0              2020-04  \n",
       "425.0              2020-04  \n",
       "450.0              2020-04  \n",
       "455.0              2020-04  \n",
       "480.0              2020-04  \n",
       "593.0              2020-04  \n",
       "892.0              2020-04  "
      ]
     },
     "execution_count": 28,
     "metadata": {},
     "output_type": "execute_result"
    }
   ],
   "source": [
    "#exemplo de filtro entre datas\n",
    "df_obitos_filtrado = df_obitos[(df_obitos['DATA_OBITO']>='2020-04-01') & (df_obitos['DATA_OBITO']<='2020-05-01')]\n",
    "df_obitos_filtrado"
   ]
  },
  {
   "cell_type": "markdown",
   "metadata": {},
   "source": [
    "buscando possiveis outliers nas idades dos obitos"
   ]
  },
  {
   "cell_type": "code",
   "execution_count": 29,
   "metadata": {},
   "outputs": [
    {
     "data": {
      "text/plain": [
       "<matplotlib.axes._subplots.AxesSubplot at 0x1afc5779880>"
      ]
     },
     "execution_count": 29,
     "metadata": {},
     "output_type": "execute_result"
    },
    {
     "data": {
      "image/png": "[encoded data removed]",
      "text/plain": [
       "<Figure size 432x288 with 1 Axes>"
      ]
     },
     "metadata": {
      "needs_background": "light"
     },
     "output_type": "display_data"
    }
   ],
   "source": [
    "df_obitos['IDADE'].plot.box()"
   ]
  },
  {
   "cell_type": "markdown",
   "metadata": {},
   "source": [
    "### RELAÇÃO DE QUANTIDADE DE OBITOS POR IDADE\n"
   ]
  },
  {
   "cell_type": "code",
   "execution_count": 30,
   "metadata": {
    "scrolled": false
   },
   "outputs": [
    {
     "data": {
      "text/plain": [
       "<matplotlib.axes._subplots.AxesSubplot at 0x1afc5715d90>"
      ]
     },
     "execution_count": 30,
     "metadata": {},
     "output_type": "execute_result"
    },
    {
     "data": {
      "image/png": "[encoded data removed]",
      "text/plain": [
       "<Figure size 432x288 with 1 Axes>"
      ]
     },
     "metadata": {
      "needs_background": "light"
     },
     "output_type": "display_data"
    }
   ],
   "source": [
    "df_morte=df_obitos.groupby(['IDADE']).size()\n",
    "df_morte.plot()"
   ]
  },
  {
   "cell_type": "markdown",
   "metadata": {},
   "source": [
    "verificando a relação de obitos por idade, percebe-se que a partir de 50 até 80 anos tem um concentração maior de mortos."
   ]
  },
  {
   "cell_type": "markdown",
   "metadata": {},
   "source": [
    "### RELAÇÃO DE QUANTIDADE DE OBITOS POR IDADE, SEXO MASCULINO E FEMININO"
   ]
  },
  {
   "cell_type": "code",
   "execution_count": 31,
   "metadata": {},
   "outputs": [
    {
     "data": {
      "text/plain": [
       "<matplotlib.axes._subplots.AxesSubplot at 0x1afc5806a60>"
      ]
     },
     "execution_count": 31,
     "metadata": {},
     "output_type": "execute_result"
    },
    {
     "data": {
      "image/png": "[encoded data removed]",
      "text/plain": [
       "<Figure size 432x288 with 1 Axes>"
      ]
     },
     "metadata": {
      "needs_background": "light"
     },
     "output_type": "display_data"
    }
   ],
   "source": [
    "#separando os obitos dos homens\n",
    "df_m=df_obitos[df_obitos['SEXO']=='M']\n",
    "df_m=df_m.groupby(['IDADE']).size()\n",
    "\n",
    "#separando os obitos das mulheres\n",
    "df_f=df_obitos[df_obitos['SEXO']=='F']\n",
    "df_f=df_f.groupby(['IDADE']).size()\n",
    "\n",
    "df_m.plot(color='r')\n",
    "df_f.plot(color='g',legend=True)"
   ]
  },
  {
   "cell_type": "markdown",
   "metadata": {},
   "source": [
    "os dados sugerem que homens tendem a morrer mais que as mulheres"
   ]
  },
  {
   "cell_type": "markdown",
   "metadata": {},
   "source": [
    "### RELAÇÃO TOTA DE CONTAMINADOS POR IDADE"
   ]
  },
  {
   "cell_type": "code",
   "execution_count": 32,
   "metadata": {},
   "outputs": [
    {
     "data": {
      "text/plain": [
       "<matplotlib.axes._subplots.AxesSubplot at 0x1afc59e4d30>"
      ]
     },
     "execution_count": 32,
     "metadata": {},
     "output_type": "execute_result"
    },
    {
     "data": {
      "image/png": "[encoded data removed]",
      "text/plain": [
       "<Figure size 432x288 with 1 Axes>"
      ]
     },
     "metadata": {
      "needs_background": "light"
     },
     "output_type": "display_data"
    }
   ],
   "source": [
    "#relação total de contaminados por idade\n",
    "df_com = df.groupby(['IDADE']).size()\n",
    "df_com.plot()"
   ]
  },
  {
   "cell_type": "markdown",
   "metadata": {},
   "source": [
    "o grafico sugere que a partir de 20 anos ate 60 anos tem uma alta concentração de pessoas infectadas\n",
    "jovens antes dos 20 anos tendem a ser assintomaticos assintomáticos.\n"
   ]
  },
  {
   "cell_type": "markdown",
   "metadata": {},
   "source": [
    "### RELAÇÃO DE QUANTIDADE TOTAL DE CONTAMINADOS POR IDADE, SEXO MASCULINO E FEMININO"
   ]
  },
  {
   "cell_type": "code",
   "execution_count": 33,
   "metadata": {
    "scrolled": false
   },
   "outputs": [
    {
     "data": {
      "text/plain": [
       "<matplotlib.axes._subplots.AxesSubplot at 0x1afc5a546a0>"
      ]
     },
     "execution_count": 33,
     "metadata": {},
     "output_type": "execute_result"
    },
    {
     "data": {
      "image/png": "[encoded data removed]",
      "text/plain": [
       "<Figure size 432x288 with 1 Axes>"
      ]
     },
     "metadata": {
      "needs_background": "light"
     },
     "output_type": "display_data"
    }
   ],
   "source": [
    "# RELAÇÃO DE QUANTIDADE DE CONTAMINADOS POR IDADE MASCULINO E FEMININO\n",
    "#separando os contamindos homens\n",
    "df_mtot=df[df['SEXO']=='M']\n",
    "df_mtot=df_mtot.groupby(['IDADE']).size()\n",
    "\n",
    "#separando os contaminados mulheres\n",
    "df_ftot=df[df['SEXO']=='F']\n",
    "df_ftot=df_ftot.groupby(['IDADE']).size()\n",
    "\n",
    "df_mtot.plot()\n",
    "df_ftot.plot()"
   ]
  },
  {
   "cell_type": "markdown",
   "metadata": {},
   "source": [
    "o grafico sugere quem as mulheres tem uma leve tendencia de se infectarem mais"
   ]
  },
  {
   "cell_type": "markdown",
   "metadata": {},
   "source": [
    "###relação de contaminados por idade e obitos por idade."
   ]
  },
  {
   "cell_type": "code",
   "execution_count": 34,
   "metadata": {},
   "outputs": [
    {
     "data": {
      "text/plain": [
       "<matplotlib.axes._subplots.AxesSubplot at 0x1afc5ab52b0>"
      ]
     },
     "execution_count": 34,
     "metadata": {},
     "output_type": "execute_result"
    },
    {
     "data": {
      "image/png": "[encoded data removed]",
      "text/plain": [
       "<Figure size 432x288 with 1 Axes>"
      ]
     },
     "metadata": {
      "needs_background": "light"
     },
     "output_type": "display_data"
    }
   ],
   "source": [
    "df_morte.plot()\n",
    "df_com.plot()"
   ]
  }
 ],
 "metadata": {
  "kernelspec": {
   "display_name": "Python 3",
   "language": "python",
   "name": "python3"
  },
  "language_info": {
   "codemirror_mode": {
    "name": "ipython",
    "version": 3
   },
   "file_extension": ".py",
   "mimetype": "text/x-python",
   "name": "python",
   "nbconvert_exporter": "python",
   "pygments_lexer": "ipython3",
   "version": "3.8.3"
  }
 },
 "nbformat": 4,
 "nbformat_minor": 4
}
