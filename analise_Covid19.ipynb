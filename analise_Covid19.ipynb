{
 "cells": [
  {
   "cell_type": "markdown",
   "metadata": {},
   "source": [
    "## Análise Exploratória da Base de Dados Covid 19 em Curitiba\n",
    "\n",
    "Análise realizada pelos alunos da disciplina Ciência de Dados e suas aplicações em cenário de pandemia.\n",
    "\n",
    "Objetivo: <b>Analisar número de casos e óbitos de Covid 19 na cidade de Curitiba.</b>"
   ]
  },
  {
   "cell_type": "markdown",
   "metadata": {},
   "source": [
    "### Etapa 1 - Leitura do arquivo csv"
   ]
  },
  {
   "cell_type": "code",
   "execution_count": 1,
   "metadata": {},
   "outputs": [
    {
     "data": {
      "text/html": [
       "<div>\n",
       "<style scoped>\n",
       "    .dataframe tbody tr th:only-of-type {\n",
       "        vertical-align: middle;\n",
       "    }\n",
       "\n",
       "    .dataframe tbody tr th {\n",
       "        vertical-align: top;\n",
       "    }\n",
       "\n",
       "    .dataframe thead th {\n",
       "        text-align: right;\n",
       "    }\n",
       "</style>\n",
       "<table border=\"1\" class=\"dataframe\">\n",
       "  <thead>\n",
       "    <tr style=\"text-align: right;\">\n",
       "      <th></th>\n",
       "      <th>DATA INCLUSÃO/ NOTIFICAÇÃO</th>\n",
       "      <th>CLASSIFICAÇÃO FINAL</th>\n",
       "      <th>IDADE (anos)</th>\n",
       "      <th>SEXO</th>\n",
       "      <th>EVOLUÇÃO</th>\n",
       "      <th>DATA DO ÓBITO</th>\n",
       "    </tr>\n",
       "    <tr>\n",
       "      <th>POSIÇÃO</th>\n",
       "      <th></th>\n",
       "      <th></th>\n",
       "      <th></th>\n",
       "      <th></th>\n",
       "      <th></th>\n",
       "      <th></th>\n",
       "    </tr>\n",
       "  </thead>\n",
       "  <tbody>\n",
       "    <tr>\n",
       "      <th>1.0</th>\n",
       "      <td>11/03/2020</td>\n",
       "      <td>CONFIRMADO</td>\n",
       "      <td>54.0</td>\n",
       "      <td>M</td>\n",
       "      <td>RECUPERADO</td>\n",
       "      <td>NaN</td>\n",
       "    </tr>\n",
       "    <tr>\n",
       "      <th>2.0</th>\n",
       "      <td>12/03/2020</td>\n",
       "      <td>CONFIRMADO</td>\n",
       "      <td>43.0</td>\n",
       "      <td>M</td>\n",
       "      <td>RECUPERADO</td>\n",
       "      <td>NaN</td>\n",
       "    </tr>\n",
       "    <tr>\n",
       "      <th>3.0</th>\n",
       "      <td>12/03/2020</td>\n",
       "      <td>CONFIRMADO</td>\n",
       "      <td>15.0</td>\n",
       "      <td>M</td>\n",
       "      <td>RECUPERADO</td>\n",
       "      <td>NaN</td>\n",
       "    </tr>\n",
       "    <tr>\n",
       "      <th>4.0</th>\n",
       "      <td>12/03/2020</td>\n",
       "      <td>CONFIRMADO</td>\n",
       "      <td>25.0</td>\n",
       "      <td>F</td>\n",
       "      <td>RECUPERADO</td>\n",
       "      <td>NaN</td>\n",
       "    </tr>\n",
       "    <tr>\n",
       "      <th>5.0</th>\n",
       "      <td>12/03/2020</td>\n",
       "      <td>CONFIRMADO</td>\n",
       "      <td>58.0</td>\n",
       "      <td>M</td>\n",
       "      <td>RECUPERADO</td>\n",
       "      <td>NaN</td>\n",
       "    </tr>\n",
       "  </tbody>\n",
       "</table>\n",
       "</div>"
      ],
      "text/plain": [
       "        DATA INCLUSÃO/ NOTIFICAÇÃO CLASSIFICAÇÃO FINAL  IDADE (anos) SEXO  \\\n",
       "POSIÇÃO                                                                     \n",
       "1.0                     11/03/2020          CONFIRMADO          54.0    M   \n",
       "2.0                     12/03/2020          CONFIRMADO          43.0    M   \n",
       "3.0                     12/03/2020          CONFIRMADO          15.0    M   \n",
       "4.0                     12/03/2020          CONFIRMADO          25.0    F   \n",
       "5.0                     12/03/2020          CONFIRMADO          58.0    M   \n",
       "\n",
       "           EVOLUÇÃO DATA DO ÓBITO  \n",
       "POSIÇÃO                            \n",
       "1.0      RECUPERADO           NaN  \n",
       "2.0      RECUPERADO           NaN  \n",
       "3.0      RECUPERADO           NaN  \n",
       "4.0      RECUPERADO           NaN  \n",
       "5.0      RECUPERADO           NaN  "
      ]
     },
     "execution_count": 1,
     "metadata": {},
     "output_type": "execute_result"
    }
   ],
   "source": [
    "import pandas as pd\n",
    "import numpy as np\n",
    "from matplotlib.pylab import plt\n",
    "\n",
    "df = pd.read_csv(r'https://mid.curitiba.pr.gov.br/dadosabertos/CasosCovid19/2020-10-25_Casos_Covid_19_-_Base_de_Dados.csv', sep=';', encoding='cp1252', header=0, index_col=0)\n",
    "df.drop(df.filter(regex=\"Unname\"),axis=1, inplace=True)\n",
    "df.head()"
   ]
  },
  {
   "cell_type": "markdown",
   "metadata": {},
   "source": [
    "Para facilitar a análise, podemos renomear as colunas."
   ]
  },
  {
   "cell_type": "code",
   "execution_count": 2,
   "metadata": {},
   "outputs": [
    {
     "data": {
      "text/html": [
       "<div>\n",
       "<style scoped>\n",
       "    .dataframe tbody tr th:only-of-type {\n",
       "        vertical-align: middle;\n",
       "    }\n",
       "\n",
       "    .dataframe tbody tr th {\n",
       "        vertical-align: top;\n",
       "    }\n",
       "\n",
       "    .dataframe thead th {\n",
       "        text-align: right;\n",
       "    }\n",
       "</style>\n",
       "<table border=\"1\" class=\"dataframe\">\n",
       "  <thead>\n",
       "    <tr style=\"text-align: right;\">\n",
       "      <th></th>\n",
       "      <th>DATA_NOTIFICACAO</th>\n",
       "      <th>CLASSIFICAÇÃO</th>\n",
       "      <th>IDADE</th>\n",
       "      <th>SEXO</th>\n",
       "      <th>STATUS</th>\n",
       "      <th>DATA_OBITO</th>\n",
       "    </tr>\n",
       "    <tr>\n",
       "      <th>POSIÇÃO</th>\n",
       "      <th></th>\n",
       "      <th></th>\n",
       "      <th></th>\n",
       "      <th></th>\n",
       "      <th></th>\n",
       "      <th></th>\n",
       "    </tr>\n",
       "  </thead>\n",
       "  <tbody>\n",
       "    <tr>\n",
       "      <th>1.000</th>\n",
       "      <td>11/03/2020</td>\n",
       "      <td>CONFIRMADO</td>\n",
       "      <td>54.0</td>\n",
       "      <td>M</td>\n",
       "      <td>RECUPERADO</td>\n",
       "      <td>NaN</td>\n",
       "    </tr>\n",
       "    <tr>\n",
       "      <th>2.000</th>\n",
       "      <td>12/03/2020</td>\n",
       "      <td>CONFIRMADO</td>\n",
       "      <td>43.0</td>\n",
       "      <td>M</td>\n",
       "      <td>RECUPERADO</td>\n",
       "      <td>NaN</td>\n",
       "    </tr>\n",
       "    <tr>\n",
       "      <th>3.000</th>\n",
       "      <td>12/03/2020</td>\n",
       "      <td>CONFIRMADO</td>\n",
       "      <td>15.0</td>\n",
       "      <td>M</td>\n",
       "      <td>RECUPERADO</td>\n",
       "      <td>NaN</td>\n",
       "    </tr>\n",
       "    <tr>\n",
       "      <th>4.000</th>\n",
       "      <td>12/03/2020</td>\n",
       "      <td>CONFIRMADO</td>\n",
       "      <td>25.0</td>\n",
       "      <td>F</td>\n",
       "      <td>RECUPERADO</td>\n",
       "      <td>NaN</td>\n",
       "    </tr>\n",
       "    <tr>\n",
       "      <th>5.000</th>\n",
       "      <td>12/03/2020</td>\n",
       "      <td>CONFIRMADO</td>\n",
       "      <td>58.0</td>\n",
       "      <td>M</td>\n",
       "      <td>RECUPERADO</td>\n",
       "      <td>NaN</td>\n",
       "    </tr>\n",
       "    <tr>\n",
       "      <th>...</th>\n",
       "      <td>...</td>\n",
       "      <td>...</td>\n",
       "      <td>...</td>\n",
       "      <td>...</td>\n",
       "      <td>...</td>\n",
       "      <td>...</td>\n",
       "    </tr>\n",
       "    <tr>\n",
       "      <th>50.379</th>\n",
       "      <td>23/10/2020</td>\n",
       "      <td>CONFIRMADO</td>\n",
       "      <td>17.0</td>\n",
       "      <td>F</td>\n",
       "      <td>NaN</td>\n",
       "      <td>NaN</td>\n",
       "    </tr>\n",
       "    <tr>\n",
       "      <th>50.380</th>\n",
       "      <td>23/10/2020</td>\n",
       "      <td>CONFIRMADO</td>\n",
       "      <td>26.0</td>\n",
       "      <td>M</td>\n",
       "      <td>NaN</td>\n",
       "      <td>NaN</td>\n",
       "    </tr>\n",
       "    <tr>\n",
       "      <th>50.381</th>\n",
       "      <td>23/10/2020</td>\n",
       "      <td>CONFIRMADO</td>\n",
       "      <td>19.0</td>\n",
       "      <td>M</td>\n",
       "      <td>NaN</td>\n",
       "      <td>NaN</td>\n",
       "    </tr>\n",
       "    <tr>\n",
       "      <th>50.382</th>\n",
       "      <td>23/10/2020</td>\n",
       "      <td>CONFIRMADO</td>\n",
       "      <td>24.0</td>\n",
       "      <td>M</td>\n",
       "      <td>NaN</td>\n",
       "      <td>NaN</td>\n",
       "    </tr>\n",
       "    <tr>\n",
       "      <th>50.383</th>\n",
       "      <td>23/10/2020</td>\n",
       "      <td>CONFIRMADO</td>\n",
       "      <td>28.0</td>\n",
       "      <td>F</td>\n",
       "      <td>NaN</td>\n",
       "      <td>NaN</td>\n",
       "    </tr>\n",
       "  </tbody>\n",
       "</table>\n",
       "<p>50383 rows × 6 columns</p>\n",
       "</div>"
      ],
      "text/plain": [
       "        DATA_NOTIFICACAO CLASSIFICAÇÃO  IDADE SEXO      STATUS DATA_OBITO\n",
       "POSIÇÃO                                                                  \n",
       "1.000         11/03/2020    CONFIRMADO   54.0    M  RECUPERADO        NaN\n",
       "2.000         12/03/2020    CONFIRMADO   43.0    M  RECUPERADO        NaN\n",
       "3.000         12/03/2020    CONFIRMADO   15.0    M  RECUPERADO        NaN\n",
       "4.000         12/03/2020    CONFIRMADO   25.0    F  RECUPERADO        NaN\n",
       "5.000         12/03/2020    CONFIRMADO   58.0    M  RECUPERADO        NaN\n",
       "...                  ...           ...    ...  ...         ...        ...\n",
       "50.379        23/10/2020    CONFIRMADO   17.0    F         NaN        NaN\n",
       "50.380        23/10/2020    CONFIRMADO   26.0    M         NaN        NaN\n",
       "50.381        23/10/2020    CONFIRMADO   19.0    M         NaN        NaN\n",
       "50.382        23/10/2020    CONFIRMADO   24.0    M         NaN        NaN\n",
       "50.383        23/10/2020    CONFIRMADO   28.0    F         NaN        NaN\n",
       "\n",
       "[50383 rows x 6 columns]"
      ]
     },
     "execution_count": 2,
     "metadata": {},
     "output_type": "execute_result"
    }
   ],
   "source": [
    "renomear_colunas = ['DATA_NOTIFICACAO','CLASSIFICAÇÃO','IDADE','SEXO','STATUS','DATA_OBITO']\n",
    "df.columns = renomear_colunas\n",
    "df"
   ]
  },
  {
   "cell_type": "markdown",
   "metadata": {},
   "source": [
    "Vamos também alterar os tipos das colunas adequadamente."
   ]
  },
  {
   "cell_type": "code",
   "execution_count": 3,
   "metadata": {},
   "outputs": [
    {
     "name": "stdout",
     "output_type": "stream",
     "text": [
      "<class 'pandas.core.frame.DataFrame'>\n",
      "Float64Index: 50383 entries, 1.0 to 50.383\n",
      "Data columns (total 6 columns):\n",
      " #   Column            Non-Null Count  Dtype         \n",
      "---  ------            --------------  -----         \n",
      " 0   DATA_NOTIFICACAO  50383 non-null  datetime64[ns]\n",
      " 1   CLASSIFICAÇÃO     50383 non-null  object        \n",
      " 2   IDADE             50372 non-null  float64       \n",
      " 3   SEXO              50383 non-null  object        \n",
      " 4   STATUS            47251 non-null  object        \n",
      " 5   DATA_OBITO        1437 non-null   datetime64[ns]\n",
      "dtypes: datetime64[ns](2), float64(1), object(3)\n",
      "memory usage: 2.7+ MB\n"
     ]
    }
   ],
   "source": [
    "# converte colunas para formato data\n",
    "df[['DATA_NOTIFICACAO','DATA_OBITO']] = df[['DATA_NOTIFICACAO','DATA_OBITO']].apply(pd.to_datetime, dayfirst=True)\n",
    "df.info()\n"
   ]
  },
  {
   "cell_type": "markdown",
   "metadata": {},
   "source": [
    "### Etapa 2 - Verificação colunas e valores\n",
    "\n",
    "Podemos verificar inicialmente quais os valores distintos em algumas colunas, para verificar a classificação. A seguir, verificamos como os dados são classificados na coluna Status."
   ]
  },
  {
   "cell_type": "code",
   "execution_count": 4,
   "metadata": {},
   "outputs": [
    {
     "data": {
      "text/plain": [
       "array(['RECUPERADO', 'ÓBITO CONF', nan], dtype=object)"
      ]
     },
     "execution_count": 4,
     "metadata": {},
     "output_type": "execute_result"
    }
   ],
   "source": [
    "df['STATUS'].unique()"
   ]
  },
  {
   "cell_type": "markdown",
   "metadata": {},
   "source": [
    "Verificamos que o Status é classificado em <b>Recuperado</b> e <b>Óbito Confirmado</b>. Também temos alguns valores nulos, onde possivelmente os casos ainda estão sendo avaliados. Primeiramente, vamos analisar os óbitos confirmados no município."
   ]
  },
  {
   "cell_type": "code",
   "execution_count": 5,
   "metadata": {},
   "outputs": [
    {
     "data": {
      "text/html": [
       "<div>\n",
       "<style scoped>\n",
       "    .dataframe tbody tr th:only-of-type {\n",
       "        vertical-align: middle;\n",
       "    }\n",
       "\n",
       "    .dataframe tbody tr th {\n",
       "        vertical-align: top;\n",
       "    }\n",
       "\n",
       "    .dataframe thead th {\n",
       "        text-align: right;\n",
       "    }\n",
       "</style>\n",
       "<table border=\"1\" class=\"dataframe\">\n",
       "  <thead>\n",
       "    <tr style=\"text-align: right;\">\n",
       "      <th></th>\n",
       "      <th>DATA_NOTIFICACAO</th>\n",
       "      <th>CLASSIFICAÇÃO</th>\n",
       "      <th>IDADE</th>\n",
       "      <th>SEXO</th>\n",
       "      <th>STATUS</th>\n",
       "      <th>DATA_OBITO</th>\n",
       "    </tr>\n",
       "    <tr>\n",
       "      <th>POSIÇÃO</th>\n",
       "      <th></th>\n",
       "      <th></th>\n",
       "      <th></th>\n",
       "      <th></th>\n",
       "      <th></th>\n",
       "      <th></th>\n",
       "    </tr>\n",
       "  </thead>\n",
       "  <tbody>\n",
       "    <tr>\n",
       "      <th>111.000</th>\n",
       "      <td>2020-03-28</td>\n",
       "      <td>CONFIRMADO</td>\n",
       "      <td>61.0</td>\n",
       "      <td>M</td>\n",
       "      <td>ÓBITO CONF</td>\n",
       "      <td>2020-04-18</td>\n",
       "    </tr>\n",
       "    <tr>\n",
       "      <th>119.000</th>\n",
       "      <td>2020-03-29</td>\n",
       "      <td>CONFIRMADO</td>\n",
       "      <td>56.0</td>\n",
       "      <td>F</td>\n",
       "      <td>ÓBITO CONF</td>\n",
       "      <td>2020-04-06</td>\n",
       "    </tr>\n",
       "    <tr>\n",
       "      <th>138.000</th>\n",
       "      <td>2020-03-31</td>\n",
       "      <td>CONFIRMADO</td>\n",
       "      <td>93.0</td>\n",
       "      <td>M</td>\n",
       "      <td>ÓBITO CONF</td>\n",
       "      <td>2020-04-21</td>\n",
       "    </tr>\n",
       "    <tr>\n",
       "      <th>150.000</th>\n",
       "      <td>2020-03-31</td>\n",
       "      <td>CONFIRMADO</td>\n",
       "      <td>39.0</td>\n",
       "      <td>F</td>\n",
       "      <td>ÓBITO CONF</td>\n",
       "      <td>2020-04-25</td>\n",
       "    </tr>\n",
       "    <tr>\n",
       "      <th>156.000</th>\n",
       "      <td>2020-04-01</td>\n",
       "      <td>CONFIRMADO</td>\n",
       "      <td>85.0</td>\n",
       "      <td>M</td>\n",
       "      <td>ÓBITO CONF</td>\n",
       "      <td>2020-04-20</td>\n",
       "    </tr>\n",
       "    <tr>\n",
       "      <th>...</th>\n",
       "      <td>...</td>\n",
       "      <td>...</td>\n",
       "      <td>...</td>\n",
       "      <td>...</td>\n",
       "      <td>...</td>\n",
       "      <td>...</td>\n",
       "    </tr>\n",
       "    <tr>\n",
       "      <th>47.931</th>\n",
       "      <td>2020-10-15</td>\n",
       "      <td>CONFIRMADO</td>\n",
       "      <td>89.0</td>\n",
       "      <td>M</td>\n",
       "      <td>ÓBITO CONF</td>\n",
       "      <td>2020-10-22</td>\n",
       "    </tr>\n",
       "    <tr>\n",
       "      <th>48.043</th>\n",
       "      <td>2020-10-15</td>\n",
       "      <td>CONFIRMADO</td>\n",
       "      <td>75.0</td>\n",
       "      <td>M</td>\n",
       "      <td>ÓBITO CONF</td>\n",
       "      <td>2020-08-20</td>\n",
       "    </tr>\n",
       "    <tr>\n",
       "      <th>48.190</th>\n",
       "      <td>2020-10-15</td>\n",
       "      <td>CONFIRMADO</td>\n",
       "      <td>87.0</td>\n",
       "      <td>M</td>\n",
       "      <td>ÓBITO CONF</td>\n",
       "      <td>2020-10-16</td>\n",
       "    </tr>\n",
       "    <tr>\n",
       "      <th>48.438</th>\n",
       "      <td>2020-10-16</td>\n",
       "      <td>CONFIRMADO</td>\n",
       "      <td>80.0</td>\n",
       "      <td>M</td>\n",
       "      <td>ÓBITO CONF</td>\n",
       "      <td>2020-10-17</td>\n",
       "    </tr>\n",
       "    <tr>\n",
       "      <th>48.457</th>\n",
       "      <td>2020-10-16</td>\n",
       "      <td>CONFIRMADO</td>\n",
       "      <td>74.0</td>\n",
       "      <td>M</td>\n",
       "      <td>ÓBITO CONF</td>\n",
       "      <td>2020-10-15</td>\n",
       "    </tr>\n",
       "  </tbody>\n",
       "</table>\n",
       "<p>1437 rows × 6 columns</p>\n",
       "</div>"
      ],
      "text/plain": [
       "        DATA_NOTIFICACAO CLASSIFICAÇÃO  IDADE SEXO      STATUS DATA_OBITO\n",
       "POSIÇÃO                                                                  \n",
       "111.000       2020-03-28    CONFIRMADO   61.0    M  ÓBITO CONF 2020-04-18\n",
       "119.000       2020-03-29    CONFIRMADO   56.0    F  ÓBITO CONF 2020-04-06\n",
       "138.000       2020-03-31    CONFIRMADO   93.0    M  ÓBITO CONF 2020-04-21\n",
       "150.000       2020-03-31    CONFIRMADO   39.0    F  ÓBITO CONF 2020-04-25\n",
       "156.000       2020-04-01    CONFIRMADO   85.0    M  ÓBITO CONF 2020-04-20\n",
       "...                  ...           ...    ...  ...         ...        ...\n",
       "47.931        2020-10-15    CONFIRMADO   89.0    M  ÓBITO CONF 2020-10-22\n",
       "48.043        2020-10-15    CONFIRMADO   75.0    M  ÓBITO CONF 2020-08-20\n",
       "48.190        2020-10-15    CONFIRMADO   87.0    M  ÓBITO CONF 2020-10-16\n",
       "48.438        2020-10-16    CONFIRMADO   80.0    M  ÓBITO CONF 2020-10-17\n",
       "48.457        2020-10-16    CONFIRMADO   74.0    M  ÓBITO CONF 2020-10-15\n",
       "\n",
       "[1437 rows x 6 columns]"
      ]
     },
     "execution_count": 5,
     "metadata": {},
     "output_type": "execute_result"
    }
   ],
   "source": [
    "df_obitos= df[df['STATUS']=='ÓBITO CONF']\n",
    "df_obitos"
   ]
  },
  {
   "cell_type": "markdown",
   "metadata": {},
   "source": [
    "Agora podemos verificar a quantidade de óbitos por mês. Para isso, extraimos da coluna data_obito apenas os valores referentes ao ano e mês, e contabilizamos quantas ocorrências aconteceram para cada mês."
   ]
  },
  {
   "cell_type": "code",
   "execution_count": 6,
   "metadata": {},
   "outputs": [
    {
     "name": "stderr",
     "output_type": "stream",
     "text": [
      "<ipython-input-6-3aa56e8086e2>:1: SettingWithCopyWarning: \n",
      "A value is trying to be set on a copy of a slice from a DataFrame.\n",
      "Try using .loc[row_indexer,col_indexer] = value instead\n",
      "\n",
      "See the caveats in the documentation: https://pandas.pydata.org/pandas-docs/stable/user_guide/indexing.html#returning-a-view-versus-a-copy\n",
      "  df_obitos['DATA_OBITO_MES_ANO'] = df_obitos['DATA_OBITO'].dt.to_period('M')\n"
     ]
    },
    {
     "data": {
      "text/html": [
       "<div>\n",
       "<style scoped>\n",
       "    .dataframe tbody tr th:only-of-type {\n",
       "        vertical-align: middle;\n",
       "    }\n",
       "\n",
       "    .dataframe tbody tr th {\n",
       "        vertical-align: top;\n",
       "    }\n",
       "\n",
       "    .dataframe thead th {\n",
       "        text-align: right;\n",
       "    }\n",
       "</style>\n",
       "<table border=\"1\" class=\"dataframe\">\n",
       "  <thead>\n",
       "    <tr style=\"text-align: right;\">\n",
       "      <th></th>\n",
       "      <th>DATA_NOTIFICACAO</th>\n",
       "      <th>CLASSIFICAÇÃO</th>\n",
       "      <th>IDADE</th>\n",
       "      <th>SEXO</th>\n",
       "      <th>STATUS</th>\n",
       "      <th>DATA_OBITO</th>\n",
       "      <th>DATA_OBITO_MES_ANO</th>\n",
       "    </tr>\n",
       "    <tr>\n",
       "      <th>POSIÇÃO</th>\n",
       "      <th></th>\n",
       "      <th></th>\n",
       "      <th></th>\n",
       "      <th></th>\n",
       "      <th></th>\n",
       "      <th></th>\n",
       "      <th></th>\n",
       "    </tr>\n",
       "  </thead>\n",
       "  <tbody>\n",
       "    <tr>\n",
       "      <th>111.000</th>\n",
       "      <td>2020-03-28</td>\n",
       "      <td>CONFIRMADO</td>\n",
       "      <td>61.0</td>\n",
       "      <td>M</td>\n",
       "      <td>ÓBITO CONF</td>\n",
       "      <td>2020-04-18</td>\n",
       "      <td>2020-04</td>\n",
       "    </tr>\n",
       "    <tr>\n",
       "      <th>119.000</th>\n",
       "      <td>2020-03-29</td>\n",
       "      <td>CONFIRMADO</td>\n",
       "      <td>56.0</td>\n",
       "      <td>F</td>\n",
       "      <td>ÓBITO CONF</td>\n",
       "      <td>2020-04-06</td>\n",
       "      <td>2020-04</td>\n",
       "    </tr>\n",
       "    <tr>\n",
       "      <th>138.000</th>\n",
       "      <td>2020-03-31</td>\n",
       "      <td>CONFIRMADO</td>\n",
       "      <td>93.0</td>\n",
       "      <td>M</td>\n",
       "      <td>ÓBITO CONF</td>\n",
       "      <td>2020-04-21</td>\n",
       "      <td>2020-04</td>\n",
       "    </tr>\n",
       "    <tr>\n",
       "      <th>150.000</th>\n",
       "      <td>2020-03-31</td>\n",
       "      <td>CONFIRMADO</td>\n",
       "      <td>39.0</td>\n",
       "      <td>F</td>\n",
       "      <td>ÓBITO CONF</td>\n",
       "      <td>2020-04-25</td>\n",
       "      <td>2020-04</td>\n",
       "    </tr>\n",
       "    <tr>\n",
       "      <th>156.000</th>\n",
       "      <td>2020-04-01</td>\n",
       "      <td>CONFIRMADO</td>\n",
       "      <td>85.0</td>\n",
       "      <td>M</td>\n",
       "      <td>ÓBITO CONF</td>\n",
       "      <td>2020-04-20</td>\n",
       "      <td>2020-04</td>\n",
       "    </tr>\n",
       "    <tr>\n",
       "      <th>...</th>\n",
       "      <td>...</td>\n",
       "      <td>...</td>\n",
       "      <td>...</td>\n",
       "      <td>...</td>\n",
       "      <td>...</td>\n",
       "      <td>...</td>\n",
       "      <td>...</td>\n",
       "    </tr>\n",
       "    <tr>\n",
       "      <th>47.931</th>\n",
       "      <td>2020-10-15</td>\n",
       "      <td>CONFIRMADO</td>\n",
       "      <td>89.0</td>\n",
       "      <td>M</td>\n",
       "      <td>ÓBITO CONF</td>\n",
       "      <td>2020-10-22</td>\n",
       "      <td>2020-10</td>\n",
       "    </tr>\n",
       "    <tr>\n",
       "      <th>48.043</th>\n",
       "      <td>2020-10-15</td>\n",
       "      <td>CONFIRMADO</td>\n",
       "      <td>75.0</td>\n",
       "      <td>M</td>\n",
       "      <td>ÓBITO CONF</td>\n",
       "      <td>2020-08-20</td>\n",
       "      <td>2020-08</td>\n",
       "    </tr>\n",
       "    <tr>\n",
       "      <th>48.190</th>\n",
       "      <td>2020-10-15</td>\n",
       "      <td>CONFIRMADO</td>\n",
       "      <td>87.0</td>\n",
       "      <td>M</td>\n",
       "      <td>ÓBITO CONF</td>\n",
       "      <td>2020-10-16</td>\n",
       "      <td>2020-10</td>\n",
       "    </tr>\n",
       "    <tr>\n",
       "      <th>48.438</th>\n",
       "      <td>2020-10-16</td>\n",
       "      <td>CONFIRMADO</td>\n",
       "      <td>80.0</td>\n",
       "      <td>M</td>\n",
       "      <td>ÓBITO CONF</td>\n",
       "      <td>2020-10-17</td>\n",
       "      <td>2020-10</td>\n",
       "    </tr>\n",
       "    <tr>\n",
       "      <th>48.457</th>\n",
       "      <td>2020-10-16</td>\n",
       "      <td>CONFIRMADO</td>\n",
       "      <td>74.0</td>\n",
       "      <td>M</td>\n",
       "      <td>ÓBITO CONF</td>\n",
       "      <td>2020-10-15</td>\n",
       "      <td>2020-10</td>\n",
       "    </tr>\n",
       "  </tbody>\n",
       "</table>\n",
       "<p>1437 rows × 7 columns</p>\n",
       "</div>"
      ],
      "text/plain": [
       "        DATA_NOTIFICACAO CLASSIFICAÇÃO  IDADE SEXO      STATUS DATA_OBITO  \\\n",
       "POSIÇÃO                                                                     \n",
       "111.000       2020-03-28    CONFIRMADO   61.0    M  ÓBITO CONF 2020-04-18   \n",
       "119.000       2020-03-29    CONFIRMADO   56.0    F  ÓBITO CONF 2020-04-06   \n",
       "138.000       2020-03-31    CONFIRMADO   93.0    M  ÓBITO CONF 2020-04-21   \n",
       "150.000       2020-03-31    CONFIRMADO   39.0    F  ÓBITO CONF 2020-04-25   \n",
       "156.000       2020-04-01    CONFIRMADO   85.0    M  ÓBITO CONF 2020-04-20   \n",
       "...                  ...           ...    ...  ...         ...        ...   \n",
       "47.931        2020-10-15    CONFIRMADO   89.0    M  ÓBITO CONF 2020-10-22   \n",
       "48.043        2020-10-15    CONFIRMADO   75.0    M  ÓBITO CONF 2020-08-20   \n",
       "48.190        2020-10-15    CONFIRMADO   87.0    M  ÓBITO CONF 2020-10-16   \n",
       "48.438        2020-10-16    CONFIRMADO   80.0    M  ÓBITO CONF 2020-10-17   \n",
       "48.457        2020-10-16    CONFIRMADO   74.0    M  ÓBITO CONF 2020-10-15   \n",
       "\n",
       "        DATA_OBITO_MES_ANO  \n",
       "POSIÇÃO                     \n",
       "111.000            2020-04  \n",
       "119.000            2020-04  \n",
       "138.000            2020-04  \n",
       "150.000            2020-04  \n",
       "156.000            2020-04  \n",
       "...                    ...  \n",
       "47.931             2020-10  \n",
       "48.043             2020-08  \n",
       "48.190             2020-10  \n",
       "48.438             2020-10  \n",
       "48.457             2020-10  \n",
       "\n",
       "[1437 rows x 7 columns]"
      ]
     },
     "execution_count": 6,
     "metadata": {},
     "output_type": "execute_result"
    }
   ],
   "source": [
    "df_obitos['DATA_OBITO_MES_ANO'] = df_obitos['DATA_OBITO'].dt.to_period('M')\n",
    "df_obitos"
   ]
  },
  {
   "cell_type": "code",
   "execution_count": 7,
   "metadata": {},
   "outputs": [
    {
     "data": {
      "text/plain": [
       "<matplotlib.axes._subplots.AxesSubplot at 0x1e59ba80af0>"
      ]
     },
     "execution_count": 7,
     "metadata": {},
     "output_type": "execute_result"
    },
    {
     "data": {
      "image/png": "[encoded data removed]",
      "text/plain": [
       "<Figure size 432x288 with 1 Axes>"
      ]
     },
     "metadata": {
      "needs_background": "light"
     },
     "output_type": "display_data"
    }
   ],
   "source": [
    "df_obitos_series= df_obitos.groupby(['DATA_OBITO_MES_ANO']).size().rename('Numero de Obitos')\n",
    "df_obitos_series.plot()"
   ]
  },
  {
   "cell_type": "markdown",
   "metadata": {},
   "source": [
    "Plotando o gráfico do número de mortes ao longo do tempo, verificamos possíveis erros no dataset, com datas de óbitos antes mesmo da pandemia iniciar (em Jan/2020) e também com datas futuras (Dez/2020). Podemos verificar quais os valores mínimos e máximos na coluna DATA_OBITO."
   ]
  },
  {
   "cell_type": "code",
   "execution_count": 8,
   "metadata": {},
   "outputs": [
    {
     "name": "stdout",
     "output_type": "stream",
     "text": [
      "Data do primeiro óbito: 2020-04-06 00:00:00\n",
      "Data máxima de óbitos: 2020-10-22 00:00:00\n"
     ]
    }
   ],
   "source": [
    "print(\"Data do primeiro óbito:\" ,df_obitos['DATA_OBITO'].min())\n",
    "print(\"Data máxima de óbitos:\",df_obitos['DATA_OBITO'].max())"
   ]
  },
  {
   "cell_type": "markdown",
   "metadata": {},
   "source": [
    "Algumas datas podem estar com valores do mês e dia invertidos, mas precisamos analisar o dataset com mais detalhes para verificar essa possibilidade. Podemos também buscar erros e inconsistências nos dados referentes à idade do paciente. Para visualizar a amostra, podemos utilizar o box plot na coluna \"IDADE\"."
   ]
  },
  {
   "cell_type": "code",
   "execution_count": 9,
   "metadata": {},
   "outputs": [
    {
     "data": {
      "text/plain": [
       "<matplotlib.axes._subplots.AxesSubplot at 0x1e59bb4c850>"
      ]
     },
     "execution_count": 9,
     "metadata": {},
     "output_type": "execute_result"
    },
    {
     "data": {
      "image/png": "[encoded data removed]",
      "text/plain": [
       "<Figure size 432x288 with 1 Axes>"
      ]
     },
     "metadata": {
      "needs_background": "light"
     },
     "output_type": "display_data"
    }
   ],
   "source": [
    "df['IDADE'].plot.box()"
   ]
  },
  {
   "cell_type": "markdown",
   "metadata": {},
   "source": [
    "Para verificar outras estatísticas interessantes sobre essa coluna, podemos utilizar o método describe."
   ]
  },
  {
   "cell_type": "code",
   "execution_count": 10,
   "metadata": {},
   "outputs": [
    {
     "data": {
      "text/plain": [
       "count    50372.000000\n",
       "mean        40.947173\n",
       "std         17.790648\n",
       "min          0.000000\n",
       "25%         28.000000\n",
       "50%         39.000000\n",
       "75%         53.000000\n",
       "max        102.000000\n",
       "Name: IDADE, dtype: float64"
      ]
     },
     "execution_count": 10,
     "metadata": {},
     "output_type": "execute_result"
    }
   ],
   "source": [
    "df['IDADE'].describe()"
   ]
  },
  {
   "cell_type": "markdown",
   "metadata": {},
   "source": [
    "Aparentemente, essa coluna possui valores dentro do esperado, com a idade dos pacientes entre 0 e 102 anos e a média de idade de 41 anos."
   ]
  },
  {
   "cell_type": "markdown",
   "metadata": {},
   "source": [
    "### Próximos passos\n",
    "Nessa primeira análise, verificamos que esse dataset possui erros referentes à data de óbitos registrados na cidade de Curitiba. Nas próximas semanas, iremos utilizar outros métodos e documentar como iremos tratar esses valores errôneos. Também iremos aprofundar a análise em outras colunas importantes disponíveis na base."
   ]
  },
  {
   "cell_type": "code",
   "execution_count": 11,
   "metadata": {},
   "outputs": [
    {
     "data": {
      "text/html": [
       "<div>\n",
       "<style scoped>\n",
       "    .dataframe tbody tr th:only-of-type {\n",
       "        vertical-align: middle;\n",
       "    }\n",
       "\n",
       "    .dataframe tbody tr th {\n",
       "        vertical-align: top;\n",
       "    }\n",
       "\n",
       "    .dataframe thead th {\n",
       "        text-align: right;\n",
       "    }\n",
       "</style>\n",
       "<table border=\"1\" class=\"dataframe\">\n",
       "  <thead>\n",
       "    <tr style=\"text-align: right;\">\n",
       "      <th></th>\n",
       "      <th>DATA_NOTIFICACAO</th>\n",
       "      <th>CLASSIFICAÇÃO</th>\n",
       "      <th>IDADE</th>\n",
       "      <th>SEXO</th>\n",
       "      <th>STATUS</th>\n",
       "      <th>DATA_OBITO</th>\n",
       "      <th>DATA_OBITO_MES_ANO</th>\n",
       "    </tr>\n",
       "    <tr>\n",
       "      <th>POSIÇÃO</th>\n",
       "      <th></th>\n",
       "      <th></th>\n",
       "      <th></th>\n",
       "      <th></th>\n",
       "      <th></th>\n",
       "      <th></th>\n",
       "      <th></th>\n",
       "    </tr>\n",
       "  </thead>\n",
       "  <tbody>\n",
       "    <tr>\n",
       "      <th>111.0</th>\n",
       "      <td>2020-03-28</td>\n",
       "      <td>CONFIRMADO</td>\n",
       "      <td>61.0</td>\n",
       "      <td>M</td>\n",
       "      <td>ÓBITO CONF</td>\n",
       "      <td>2020-04-18</td>\n",
       "      <td>2020-04</td>\n",
       "    </tr>\n",
       "    <tr>\n",
       "      <th>119.0</th>\n",
       "      <td>2020-03-29</td>\n",
       "      <td>CONFIRMADO</td>\n",
       "      <td>56.0</td>\n",
       "      <td>F</td>\n",
       "      <td>ÓBITO CONF</td>\n",
       "      <td>2020-04-06</td>\n",
       "      <td>2020-04</td>\n",
       "    </tr>\n",
       "    <tr>\n",
       "      <th>138.0</th>\n",
       "      <td>2020-03-31</td>\n",
       "      <td>CONFIRMADO</td>\n",
       "      <td>93.0</td>\n",
       "      <td>M</td>\n",
       "      <td>ÓBITO CONF</td>\n",
       "      <td>2020-04-21</td>\n",
       "      <td>2020-04</td>\n",
       "    </tr>\n",
       "    <tr>\n",
       "      <th>150.0</th>\n",
       "      <td>2020-03-31</td>\n",
       "      <td>CONFIRMADO</td>\n",
       "      <td>39.0</td>\n",
       "      <td>F</td>\n",
       "      <td>ÓBITO CONF</td>\n",
       "      <td>2020-04-25</td>\n",
       "      <td>2020-04</td>\n",
       "    </tr>\n",
       "    <tr>\n",
       "      <th>156.0</th>\n",
       "      <td>2020-04-01</td>\n",
       "      <td>CONFIRMADO</td>\n",
       "      <td>85.0</td>\n",
       "      <td>M</td>\n",
       "      <td>ÓBITO CONF</td>\n",
       "      <td>2020-04-20</td>\n",
       "      <td>2020-04</td>\n",
       "    </tr>\n",
       "    <tr>\n",
       "      <th>173.0</th>\n",
       "      <td>2020-04-01</td>\n",
       "      <td>CONFIRMADO</td>\n",
       "      <td>94.0</td>\n",
       "      <td>M</td>\n",
       "      <td>ÓBITO CONF</td>\n",
       "      <td>2020-04-06</td>\n",
       "      <td>2020-04</td>\n",
       "    </tr>\n",
       "    <tr>\n",
       "      <th>184.0</th>\n",
       "      <td>2020-04-02</td>\n",
       "      <td>CONFIRMADO</td>\n",
       "      <td>56.0</td>\n",
       "      <td>M</td>\n",
       "      <td>ÓBITO CONF</td>\n",
       "      <td>2020-04-07</td>\n",
       "      <td>2020-04</td>\n",
       "    </tr>\n",
       "    <tr>\n",
       "      <th>187.0</th>\n",
       "      <td>2020-04-02</td>\n",
       "      <td>CONFIRMADO</td>\n",
       "      <td>81.0</td>\n",
       "      <td>M</td>\n",
       "      <td>ÓBITO CONF</td>\n",
       "      <td>2020-04-27</td>\n",
       "      <td>2020-04</td>\n",
       "    </tr>\n",
       "    <tr>\n",
       "      <th>205.0</th>\n",
       "      <td>2020-04-03</td>\n",
       "      <td>CONFIRMADO</td>\n",
       "      <td>82.0</td>\n",
       "      <td>M</td>\n",
       "      <td>ÓBITO CONF</td>\n",
       "      <td>2020-04-14</td>\n",
       "      <td>2020-04</td>\n",
       "    </tr>\n",
       "    <tr>\n",
       "      <th>224.0</th>\n",
       "      <td>2020-04-04</td>\n",
       "      <td>CONFIRMADO</td>\n",
       "      <td>75.0</td>\n",
       "      <td>F</td>\n",
       "      <td>ÓBITO CONF</td>\n",
       "      <td>2020-04-20</td>\n",
       "      <td>2020-04</td>\n",
       "    </tr>\n",
       "    <tr>\n",
       "      <th>238.0</th>\n",
       "      <td>2020-04-05</td>\n",
       "      <td>CONFIRMADO</td>\n",
       "      <td>88.0</td>\n",
       "      <td>F</td>\n",
       "      <td>ÓBITO CONF</td>\n",
       "      <td>2020-04-24</td>\n",
       "      <td>2020-04</td>\n",
       "    </tr>\n",
       "    <tr>\n",
       "      <th>241.0</th>\n",
       "      <td>2020-04-05</td>\n",
       "      <td>CONFIRMADO</td>\n",
       "      <td>80.0</td>\n",
       "      <td>M</td>\n",
       "      <td>ÓBITO CONF</td>\n",
       "      <td>2020-04-13</td>\n",
       "      <td>2020-04</td>\n",
       "    </tr>\n",
       "    <tr>\n",
       "      <th>254.0</th>\n",
       "      <td>2020-04-06</td>\n",
       "      <td>CONFIRMADO</td>\n",
       "      <td>87.0</td>\n",
       "      <td>F</td>\n",
       "      <td>ÓBITO CONF</td>\n",
       "      <td>2020-04-28</td>\n",
       "      <td>2020-04</td>\n",
       "    </tr>\n",
       "    <tr>\n",
       "      <th>257.0</th>\n",
       "      <td>2020-04-06</td>\n",
       "      <td>CONFIRMADO</td>\n",
       "      <td>73.0</td>\n",
       "      <td>M</td>\n",
       "      <td>ÓBITO CONF</td>\n",
       "      <td>2020-04-20</td>\n",
       "      <td>2020-04</td>\n",
       "    </tr>\n",
       "    <tr>\n",
       "      <th>271.0</th>\n",
       "      <td>2020-04-07</td>\n",
       "      <td>CONFIRMADO</td>\n",
       "      <td>94.0</td>\n",
       "      <td>F</td>\n",
       "      <td>ÓBITO CONF</td>\n",
       "      <td>2020-04-07</td>\n",
       "      <td>2020-04</td>\n",
       "    </tr>\n",
       "    <tr>\n",
       "      <th>371.0</th>\n",
       "      <td>2020-04-12</td>\n",
       "      <td>CONFIRMADO</td>\n",
       "      <td>72.0</td>\n",
       "      <td>M</td>\n",
       "      <td>ÓBITO CONF</td>\n",
       "      <td>2020-04-07</td>\n",
       "      <td>2020-04</td>\n",
       "    </tr>\n",
       "    <tr>\n",
       "      <th>395.0</th>\n",
       "      <td>2020-04-15</td>\n",
       "      <td>CONFIRMADO</td>\n",
       "      <td>93.0</td>\n",
       "      <td>F</td>\n",
       "      <td>ÓBITO CONF</td>\n",
       "      <td>2020-04-19</td>\n",
       "      <td>2020-04</td>\n",
       "    </tr>\n",
       "    <tr>\n",
       "      <th>427.0</th>\n",
       "      <td>2020-04-17</td>\n",
       "      <td>CONFIRMADO</td>\n",
       "      <td>80.0</td>\n",
       "      <td>M</td>\n",
       "      <td>ÓBITO CONF</td>\n",
       "      <td>2020-04-29</td>\n",
       "      <td>2020-04</td>\n",
       "    </tr>\n",
       "    <tr>\n",
       "      <th>453.0</th>\n",
       "      <td>2020-04-18</td>\n",
       "      <td>CONFIRMADO</td>\n",
       "      <td>77.0</td>\n",
       "      <td>M</td>\n",
       "      <td>ÓBITO CONF</td>\n",
       "      <td>2020-04-29</td>\n",
       "      <td>2020-04</td>\n",
       "    </tr>\n",
       "    <tr>\n",
       "      <th>458.0</th>\n",
       "      <td>2020-04-19</td>\n",
       "      <td>CONFIRMADO</td>\n",
       "      <td>82.0</td>\n",
       "      <td>M</td>\n",
       "      <td>ÓBITO CONF</td>\n",
       "      <td>2020-04-29</td>\n",
       "      <td>2020-04</td>\n",
       "    </tr>\n",
       "    <tr>\n",
       "      <th>483.0</th>\n",
       "      <td>2020-04-21</td>\n",
       "      <td>CONFIRMADO</td>\n",
       "      <td>81.0</td>\n",
       "      <td>M</td>\n",
       "      <td>ÓBITO CONF</td>\n",
       "      <td>2020-04-29</td>\n",
       "      <td>2020-04</td>\n",
       "    </tr>\n",
       "    <tr>\n",
       "      <th>597.0</th>\n",
       "      <td>2020-04-28</td>\n",
       "      <td>CONFIRMADO</td>\n",
       "      <td>69.0</td>\n",
       "      <td>F</td>\n",
       "      <td>ÓBITO CONF</td>\n",
       "      <td>2020-04-28</td>\n",
       "      <td>2020-04</td>\n",
       "    </tr>\n",
       "    <tr>\n",
       "      <th>897.0</th>\n",
       "      <td>2020-05-15</td>\n",
       "      <td>CONFIRMADO</td>\n",
       "      <td>87.0</td>\n",
       "      <td>F</td>\n",
       "      <td>ÓBITO CONF</td>\n",
       "      <td>2020-04-06</td>\n",
       "      <td>2020-04</td>\n",
       "    </tr>\n",
       "  </tbody>\n",
       "</table>\n",
       "</div>"
      ],
      "text/plain": [
       "        DATA_NOTIFICACAO CLASSIFICAÇÃO  IDADE SEXO      STATUS DATA_OBITO  \\\n",
       "POSIÇÃO                                                                     \n",
       "111.0         2020-03-28    CONFIRMADO   61.0    M  ÓBITO CONF 2020-04-18   \n",
       "119.0         2020-03-29    CONFIRMADO   56.0    F  ÓBITO CONF 2020-04-06   \n",
       "138.0         2020-03-31    CONFIRMADO   93.0    M  ÓBITO CONF 2020-04-21   \n",
       "150.0         2020-03-31    CONFIRMADO   39.0    F  ÓBITO CONF 2020-04-25   \n",
       "156.0         2020-04-01    CONFIRMADO   85.0    M  ÓBITO CONF 2020-04-20   \n",
       "173.0         2020-04-01    CONFIRMADO   94.0    M  ÓBITO CONF 2020-04-06   \n",
       "184.0         2020-04-02    CONFIRMADO   56.0    M  ÓBITO CONF 2020-04-07   \n",
       "187.0         2020-04-02    CONFIRMADO   81.0    M  ÓBITO CONF 2020-04-27   \n",
       "205.0         2020-04-03    CONFIRMADO   82.0    M  ÓBITO CONF 2020-04-14   \n",
       "224.0         2020-04-04    CONFIRMADO   75.0    F  ÓBITO CONF 2020-04-20   \n",
       "238.0         2020-04-05    CONFIRMADO   88.0    F  ÓBITO CONF 2020-04-24   \n",
       "241.0         2020-04-05    CONFIRMADO   80.0    M  ÓBITO CONF 2020-04-13   \n",
       "254.0         2020-04-06    CONFIRMADO   87.0    F  ÓBITO CONF 2020-04-28   \n",
       "257.0         2020-04-06    CONFIRMADO   73.0    M  ÓBITO CONF 2020-04-20   \n",
       "271.0         2020-04-07    CONFIRMADO   94.0    F  ÓBITO CONF 2020-04-07   \n",
       "371.0         2020-04-12    CONFIRMADO   72.0    M  ÓBITO CONF 2020-04-07   \n",
       "395.0         2020-04-15    CONFIRMADO   93.0    F  ÓBITO CONF 2020-04-19   \n",
       "427.0         2020-04-17    CONFIRMADO   80.0    M  ÓBITO CONF 2020-04-29   \n",
       "453.0         2020-04-18    CONFIRMADO   77.0    M  ÓBITO CONF 2020-04-29   \n",
       "458.0         2020-04-19    CONFIRMADO   82.0    M  ÓBITO CONF 2020-04-29   \n",
       "483.0         2020-04-21    CONFIRMADO   81.0    M  ÓBITO CONF 2020-04-29   \n",
       "597.0         2020-04-28    CONFIRMADO   69.0    F  ÓBITO CONF 2020-04-28   \n",
       "897.0         2020-05-15    CONFIRMADO   87.0    F  ÓBITO CONF 2020-04-06   \n",
       "\n",
       "        DATA_OBITO_MES_ANO  \n",
       "POSIÇÃO                     \n",
       "111.0              2020-04  \n",
       "119.0              2020-04  \n",
       "138.0              2020-04  \n",
       "150.0              2020-04  \n",
       "156.0              2020-04  \n",
       "173.0              2020-04  \n",
       "184.0              2020-04  \n",
       "187.0              2020-04  \n",
       "205.0              2020-04  \n",
       "224.0              2020-04  \n",
       "238.0              2020-04  \n",
       "241.0              2020-04  \n",
       "254.0              2020-04  \n",
       "257.0              2020-04  \n",
       "271.0              2020-04  \n",
       "371.0              2020-04  \n",
       "395.0              2020-04  \n",
       "427.0              2020-04  \n",
       "453.0              2020-04  \n",
       "458.0              2020-04  \n",
       "483.0              2020-04  \n",
       "597.0              2020-04  \n",
       "897.0              2020-04  "
      ]
     },
     "execution_count": 11,
     "metadata": {},
     "output_type": "execute_result"
    }
   ],
   "source": [
    "#exemplo de filtro entre datas\n",
    "df_obitos_filtrado = df_obitos[(df_obitos['DATA_OBITO']>='2020-04-01') & (df_obitos['DATA_OBITO']<='2020-05-01')]\n",
    "df_obitos_filtrado"
   ]
  },
  {
   "cell_type": "markdown",
   "metadata": {},
   "source": [
    "### RELAÇÃO DE QUANTIDADE DE OBITOS POR IDADE\n",
    "verificando a relação de obitos por idade, percebe-se que a partir de 50 até 80 anos tem um concentração maior de mortos."
   ]
  },
  {
   "cell_type": "code",
   "execution_count": 12,
   "metadata": {
    "scrolled": false
   },
   "outputs": [
    {
     "data": {
      "text/plain": [
       "<matplotlib.axes._subplots.AxesSubplot at 0x1e59bd04ee0>"
      ]
     },
     "execution_count": 12,
     "metadata": {},
     "output_type": "execute_result"
    },
    {
     "data": {
      "image/png": "[encoded data removed]",
      "text/plain": [
       "<Figure size 432x288 with 1 Axes>"
      ]
     },
     "metadata": {
      "needs_background": "light"
     },
     "output_type": "display_data"
    }
   ],
   "source": [
    "df_morte=df_obitos.groupby(['IDADE']).size()\n",
    "df_morte.plot()"
   ]
  },
  {
   "cell_type": "markdown",
   "metadata": {},
   "source": [
    "### RELAÇÃO DE QUANTIDADE DE OBITOS POR IDADE SEXO MASCULINO E FEMININO"
   ]
  },
  {
   "cell_type": "code",
   "execution_count": 13,
   "metadata": {},
   "outputs": [
    {
     "data": {
      "text/plain": [
       "<matplotlib.axes._subplots.AxesSubplot at 0x1e59bd6f310>"
      ]
     },
     "execution_count": 13,
     "metadata": {},
     "output_type": "execute_result"
    },
    {
     "data": {
      "image/png": "[encoded data removed]",
      "text/plain": [
       "<Figure size 432x288 with 1 Axes>"
      ]
     },
     "metadata": {
      "needs_background": "light"
     },
     "output_type": "display_data"
    }
   ],
   "source": [
    "#separando os obitos dos homens\n",
    "df_m=df_obitos[df_obitos['SEXO']=='M']\n",
    "df_m=df_m.groupby(['IDADE']).size()\n",
    "\n",
    "#separando os obitos das mulheres\n",
    "df_f=df_obitos[df_obitos['SEXO']=='F']\n",
    "df_f=df_f.groupby(['IDADE']).size()\n",
    "\n",
    "df_m.plot(color='r')\n",
    "df_f.plot(color='g',legend=True)"
   ]
  },
  {
   "cell_type": "markdown",
   "metadata": {},
   "source": [
    "os dados sugerem que homens tendem a morrer mais que as mulheres"
   ]
  },
  {
   "cell_type": "markdown",
   "metadata": {},
   "source": [
    "### RELAÇÃO TOTA DE CONTAMINADOS POR IDADE"
   ]
  },
  {
   "cell_type": "code",
   "execution_count": 14,
   "metadata": {},
   "outputs": [
    {
     "data": {
      "text/plain": [
       "<matplotlib.axes._subplots.AxesSubplot at 0x1e59bdd55b0>"
      ]
     },
     "execution_count": 14,
     "metadata": {},
     "output_type": "execute_result"
    },
    {
     "data": {
      "image/png": "[encoded data removed]",
      "text/plain": [
       "<Figure size 432x288 with 1 Axes>"
      ]
     },
     "metadata": {
      "needs_background": "light"
     },
     "output_type": "display_data"
    }
   ],
   "source": [
    "#relação total de contaminados por idade\n",
    "df_com = df.groupby(['IDADE']).size()\n",
    "df_com.plot()"
   ]
  },
  {
   "cell_type": "markdown",
   "metadata": {},
   "source": [
    "o grafico sugere que a partir de 20 anos ate 60 anos tem uma alta concentração de pessoas infectadas"
   ]
  },
  {
   "cell_type": "markdown",
   "metadata": {},
   "source": [
    "### RELAÇÃO DE QUANTIDADE DE OBITOS POR IDADE MASCULINO E FEMININO"
   ]
  },
  {
   "cell_type": "code",
   "execution_count": 15,
   "metadata": {
    "scrolled": false
   },
   "outputs": [
    {
     "data": {
      "text/plain": [
       "<matplotlib.axes._subplots.AxesSubplot at 0x1e59be2cbe0>"
      ]
     },
     "execution_count": 15,
     "metadata": {},
     "output_type": "execute_result"
    },
    {
     "data": {
      "image/png": "[encoded data removed]",
      "text/plain": [
       "<Figure size 432x288 with 1 Axes>"
      ]
     },
     "metadata": {
      "needs_background": "light"
     },
     "output_type": "display_data"
    }
   ],
   "source": [
    "# RELAÇÃO DE QUANTIDADE DE OBITOS POR IDADE masculino\n",
    "#separando os obitos dos homens\n",
    "df_mtot=df[df['SEXO']=='M']\n",
    "df_mtot=df_mtot.groupby(['IDADE']).size()\n",
    "\n",
    "#separando os obitos das mulheres\n",
    "df_ftot=df[df['SEXO']=='F']\n",
    "df_ftot=df_ftot.groupby(['IDADE']).size()\n",
    "\n",
    "df_mtot.plot()\n",
    "df_ftot.plot()"
   ]
  },
  {
   "cell_type": "markdown",
   "metadata": {},
   "source": [
    "o grafico sugere quem as mulheres tem uma leve tendencia de se infectarem mais"
   ]
  }
 ],
 "metadata": {
  "kernelspec": {
   "display_name": "Python 3",
   "language": "python",
   "name": "python3"
  },
  "language_info": {
   "codemirror_mode": {
    "name": "ipython",
    "version": 3
   },
   "file_extension": ".py",
   "mimetype": "text/x-python",
   "name": "python",
   "nbconvert_exporter": "python",
   "pygments_lexer": "ipython3",
   "version": "3.8.3"
  }
 },
 "nbformat": 4,
 "nbformat_minor": 4
}
